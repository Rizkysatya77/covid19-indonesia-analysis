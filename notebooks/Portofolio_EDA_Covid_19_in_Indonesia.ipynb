{
  "cells": [
    {
      "cell_type": "markdown",
      "metadata": {
        "id": "d8n9ne9l5FU3"
      },
      "source": [
        "# COVID-19 Data Analysis\n",
        "📊 Analisis tren, penyebaran, dan dampak pandemi COVID-19 di Indonesia.  \n",
        "🔧 Tools: Python (Pandas, Seaborn), Tableau  \n",
        "\n",
        "## Insight Utama\n",
        "- Indonesia mengalami puncak kasus pada ...\n",
        "- Provinsi X memiliki tingkat kematian tertinggi ...\n",
        "\n",
        "## Struktur Proyek\n",
        "- data/: Dataset mentah\n",
        "- notebooks/: Notebook analisis & prediksi\n",
        "- dashboard/: Visualisasi interaktif"
      ]
    },
    {
      "cell_type": "markdown",
      "metadata": {
        "id": "r3jZ8uTt6hp9"
      },
      "source": [
        "# **Import Library**"
      ]
    },
    {
      "cell_type": "code",
      "execution_count": null,
      "metadata": {
        "id": "0U5nnsAI6hKc"
      },
      "outputs": [],
      "source": [
        "import numpy as np # linear algebra\n",
        "import pandas as pd # data processing, CSV file I/O (e.g. pd.read_csv)\n",
        "import matplotlib.pyplot as plt # for data visualization purposes\n",
        "import seaborn as sns # for statistical data visualization\n",
        "import plotly as ply\n",
        "import plotly.express as px\n",
        "import plotly.graph_objects as go\n",
        "import plotly.io as pio\n",
        "pio.templates.default = \"plotly_dark\"\n",
        "%matplotlib inline"
      ]
    },
    {
      "cell_type": "markdown",
      "metadata": {
        "id": "TcPX5cE19-jT"
      },
      "source": [
        "# **Load Data**"
      ]
    },
    {
      "cell_type": "code",
      "execution_count": null,
      "metadata": {
        "colab": {
          "base_uri": "https://localhost:8080/",
          "height": 0
        },
        "id": "mXT556Vb7uzA",
        "outputId": "71de355b-a0e0-43e9-f494-3c29eb66d3ff"
      },
      "outputs": [],
      "source": [
        "df = pd.read_csv('covid_19_indonesia_time_series_all.csv')\n",
        "df.head()"
      ]
    },
    {
      "cell_type": "code",
      "execution_count": null,
      "metadata": {
        "colab": {
          "base_uri": "https://localhost:8080/"
        },
        "id": "NkdWsOpt-I-E",
        "outputId": "f9605ea6-1075-41da-cb4e-754615352c8e"
      },
      "outputs": [],
      "source": [
        "df.info()"
      ]
    },
    {
      "cell_type": "code",
      "execution_count": null,
      "metadata": {
        "colab": {
          "base_uri": "https://localhost:8080/",
          "height": 0
        },
        "id": "EecaTSHh-mZ5",
        "outputId": "858bcae3-2c58-4b0a-d2a9-a02baeb1bd70"
      },
      "outputs": [],
      "source": [
        "df.describe()"
      ]
    },
    {
      "cell_type": "code",
      "execution_count": null,
      "metadata": {
        "colab": {
          "base_uri": "https://localhost:8080/"
        },
        "id": "ZHKQhEVp-qCh",
        "outputId": "3a69f688-611d-480c-dc38-4f884fabf1ce"
      },
      "outputs": [],
      "source": [
        "print(df.isnull().sum().sort_values(ascending=False))"
      ]
    },
    {
      "cell_type": "markdown",
      "metadata": {
        "id": "4L-g6aMK-X1s"
      },
      "source": [
        "# **Drop Table not using**"
      ]
    },
    {
      "cell_type": "markdown",
      "metadata": {
        "id": "EX51xNP3A0Ok"
      },
      "source": [
        "## **Table yang digunakan**\n",
        "- Date\n",
        "- Location\n",
        "- Province (jika fokus ke provinsi)\n",
        "- Country\n",
        "- Cases\n",
        "- Total Cases\n",
        "- Deaths\n",
        "- Total Deaths\n",
        "- Recovered\n",
        "- Total Recovered\n",
        "- Active Cases\n",
        "- Total Active Cases\n",
        "- Population\n",
        "- Population Density\n",
        "- Area (km2)\n",
        "- Case Recovered Rate\n",
        "- Case Fatality Rate"
      ]
    },
    {
      "cell_type": "code",
      "execution_count": null,
      "metadata": {
        "id": "qBBL8hNQ-V9S"
      },
      "outputs": [],
      "source": [
        "# Delete original date column\n",
        "cleaned_data = df.drop(columns=['City or Regency','Special Status','Growth Factor of Deaths','Growth Factor of Cases',\n",
        "                       'Total Rural Villages','Island','Time Zone','Total Urban Villages','Total Cities','Location ISO Code',\n",
        "                       'Total Districts','Total Regencies','Total Regencies','Continent'])"
      ]
    },
    {
      "cell_type": "markdown",
      "metadata": {
        "id": "k-g67BIlQLVl"
      },
      "source": [
        "# **Preprocessing Data**"
      ]
    },
    {
      "cell_type": "markdown",
      "metadata": {
        "id": "spNT4MUMZEpR"
      },
      "source": [
        "1. mode() akan mengembalikan nilai yang paling sering muncul di kolom tersebut.\n",
        "1. [0] dipakai karena mode() bisa mengembalikan lebih dari satu nilai kalau ada beberapa provinsi dengan jumlah kemunculan sama banyak, tapi biasanya cukup ambil yang pertama."
      ]
    },
    {
      "cell_type": "code",
      "execution_count": null,
      "metadata": {
        "colab": {
          "base_uri": "https://localhost:8080/"
        },
        "id": "YD0RPfgMKtZz",
        "outputId": "3906eca6-568c-46cd-ded6-1d7994550e12"
      },
      "outputs": [],
      "source": [
        "# Langkah 1: Dapatkan nilai modus untuk Province\n",
        "most_common_province = cleaned_data['Province'].mode()[0]  # Mengambil nilai modus dari kolom 'Province'\n",
        "print(f\"Provinsi yang paling sering muncul: {most_common_province}\")"
      ]
    },
    {
      "cell_type": "code",
      "execution_count": null,
      "metadata": {
        "id": "YAkoLg50I_xf"
      },
      "outputs": [],
      "source": [
        "# Sesudah (Paling Benar dan Idiomatik di Pandas):\n",
        "province_stats_filtered = cleaned_data[cleaned_data['Location'] != 'Indonesia'].copy().reset_index(drop=True)"
      ]
    },
    {
      "cell_type": "code",
      "execution_count": null,
      "metadata": {
        "colab": {
          "base_uri": "https://localhost:8080/"
        },
        "id": "04TxWjiPb3cw",
        "outputId": "7cb2c1e6-bd2e-4c56-d979-3fb5cce0f212"
      },
      "outputs": [],
      "source": [
        "print(province_stats_filtered.isnull().sum().sort_values(ascending=False))"
      ]
    },
    {
      "cell_type": "code",
      "execution_count": null,
      "metadata": {
        "colab": {
          "base_uri": "https://localhost:8080/",
          "height": 0
        },
        "id": "ggBFClz0FK7B",
        "outputId": "2e19e289-d312-48c1-bc60-f7b8295d7d8c"
      },
      "outputs": [],
      "source": [
        "province_stats_filtered.head()"
      ]
    },
    {
      "cell_type": "markdown",
      "metadata": {
        "id": "tLrhjNn9VQIA"
      },
      "source": [
        "Untuk memilih beberapa kolom sekaligus, Anda harus menggunakan list ([]), bukan tuple atau multiple arguments.\n",
        "\n",
        "Penjelasan Perubahan:\n",
        "1. Ganti tanda kurung tunggal ('Cases', ...) menjadi double brackets [['Cases', ...]] (Ini adalah cara pandas untuk memilih subset kolom)\n",
        "1. Hasilnya akan menampilkan tabel dengan: Kolom: Cases, Deaths, Recovered, Active Cases Baris: min (nilai terkecil) dan max (nilai terbesar)"
      ]
    },
    {
      "cell_type": "code",
      "execution_count": null,
      "metadata": {
        "colab": {
          "base_uri": "https://localhost:8080/"
        },
        "id": "9G6MqWdSR3Dw",
        "outputId": "c6c598ab-049c-4e64-efb3-8bda3a0e32f4"
      },
      "outputs": [],
      "source": [
        "cek_min_max_values = province_stats_filtered[['Cases','Deaths', 'Recovered','Active Cases']].agg(['min', 'max'])\n",
        "print(cek_min_max_values)"
      ]
    },
    {
      "cell_type": "code",
      "execution_count": null,
      "metadata": {
        "id": "NBUSo7uDS-UM"
      },
      "outputs": [],
      "source": [
        "# Convert Dtype \"Date\" dari object -> Dtype datetime\n",
        "province_stats_filtered['Date'] = pd.to_datetime(province_stats_filtered['Date'])"
      ]
    },
    {
      "cell_type": "code",
      "execution_count": null,
      "metadata": {
        "colab": {
          "base_uri": "https://localhost:8080/"
        },
        "id": "YQZfJUB9OanJ",
        "outputId": "db760b59-349b-47d5-d749-22977d265d23"
      },
      "outputs": [],
      "source": [
        "province_stats_filtered.info()"
      ]
    },
    {
      "cell_type": "markdown",
      "metadata": {
        "id": "D5haAc7sQfDy"
      },
      "source": [
        "# **Exploratory Data Analysis (EDA)**"
      ]
    },
    {
      "cell_type": "markdown",
      "metadata": {
        "id": "R81F4i4VPHQ4"
      },
      "source": [
        "## **Daily Trends Covind-19 (Cases, Deaths, Recovered, Active Cases)**"
      ]
    },
    {
      "cell_type": "code",
      "execution_count": null,
      "metadata": {
        "id": "mlipgvXvQrdV"
      },
      "outputs": [],
      "source": [
        "Cases = ['Cases','Deaths', 'Recovered','Active Cases']"
      ]
    },
    {
      "cell_type": "code",
      "execution_count": null,
      "metadata": {
        "id": "pJk10NJ_nVdV"
      },
      "outputs": [],
      "source": [
        "df_daily_trends = province_stats_filtered.copy()"
      ]
    },
    {
      "cell_type": "code",
      "execution_count": null,
      "metadata": {
        "colab": {
          "base_uri": "https://localhost:8080/"
        },
        "collapsed": true,
        "id": "K5OOI3X2oTDS",
        "outputId": "35e3ee8e-5b3a-4a0b-fdf2-1e734927e012"
      },
      "outputs": [],
      "source": [
        "df_daily_trends.info()"
      ]
    },
    {
      "cell_type": "code",
      "execution_count": null,
      "metadata": {
        "colab": {
          "base_uri": "https://localhost:8080/",
          "height": 0
        },
        "collapsed": true,
        "id": "n3m2Fs1VOxHZ",
        "outputId": "6df2b20e-d384-4b7c-cef8-da292c2b5fdf"
      },
      "outputs": [],
      "source": [
        "df_daily_trends.set_index('Date', inplace=True)\n",
        "axes = df_daily_trends[Cases].plot(marker=\".\", alpha=0.5, linestyle='None', figsize=(16, 10), subplots=True)\n",
        "\n",
        "fig = axes[0].figure  # Ambil figure dari subplot pertama\n",
        "fig.suptitle('COVID-19 Daily Trends Per Case Type')\n",
        "\n",
        "for i in axes:\n",
        "    i.set_xlabel('Date')\n",
        "    i.set_ylabel('Cases')"
      ]
    },
    {
      "cell_type": "markdown",
      "metadata": {
        "id": "hW1ubn2TtuQs"
      },
      "source": [
        "### **Analisis COVID-19 Daily Trends Per Case Type**\n",
        "\n",
        "<!DOCTYPE html>\n",
        "<html>\n",
        "    <body>\n",
        "        <p style=\"text-align:justify ; font-size:90% ; margin: 30px ;\">\n",
        "        Grafik menunjukkan pola gelombang yang sangat jelas untuk Cases, Deaths, dan Recovered, ini menunjukkan puncak gelombang pandemi yang signifikan. Puncak pertama terjadi pada pertengahan tahun 2021, dan pola gelombang menunjukkan puncak yang sangat tinggi untuk Cases dan Deaths pada pertengahan tahun 2021 (sekitar Juli-Agustus). Kemungkinan besar adalah gelombang Delta yang melanda Indonesia. Setelah gelombang kasus baru, Recovered menunjukkan lonjakan yang signifikan. Ini menunjukkan kapasitas pemulihan yang tinggi atau skala penyebaran yang luas.  \n",
        "        <br>Kemudian gelombang kedua terjadi pada awal tahun 2022 (sekitar Februari - Maret). Dimana puncak gelombang kedua relatif signifikan, walaupun tidak setinggi puncak pertama. Kemungkinan besar adalah gelombang Omicron, dimana Puncak Recovered juga mengikuti pola ini. Menjelang akhir periode tren mengalami penurunan (sekitar pertengahan hingga akhir 2022). Jumlah Cases, Deaths, dan Recovered tampak menurun secara signifikan, kembali ke tingkat yang lebih rendah mendekati garis dasar. Ini menunjukkan fase di mana pandemi mungkin sudah lebih terkendali atau tingkat kekebalan populasi sudah meningkat.\n",
        "        </p\">\n",
        "        <P style=\"margin-bottom: 0.1; line-height: 0; font-weight: bold;\">Berikut merupakan correlation antar metrik cases</P>\n",
        "        <ul style=\"text-align:justify ; font-size:90% ; margin: 30px; margin-top:0.0;\">\n",
        "            <li>\n",
        "            Terdapat korelasi yang jelas antara Cases dan Deaths, setiap lonjakan Cases selalu diikuti oleh lonjakan Deaths beberapa waktu kemudian akan tetapi terdapat lag waktu yang wajar. Ini menunjukkan bahwa, dalam proporsi yang berbeda, peningkatan kasus infeksi mengarah pada peningkatan kematian. Begitupun dengan kasus kesembuhan juga berkorelasi positif dengan Cases infeksi. Dikarenakan saat Cases infeksi mengalami tren lonjakan, maka Cases sembuh juga akan ikut mengalami tren lonjakan. Hal ini menunjukkan bahwa sistem kesehatan menangani sebagian besar kasus dengan baik, akan tetapi ini juga menunjukkan seberapa cepat virus menyebar.\n",
        "            </li>\n",
        "            <li>\n",
        "            Glombang pada grafik Kasus Active Cases menunjukkan fluktuasi yang lebih tajam dan sering bergerak disekitar nol. Tren lonjakkan positif pada Active Cases terjadi saat Cases infeksi melebihi probabilitas Recovered dan Deaths, hal ini menandakan bahwa infeksi Active Cases di lingkungan population mengalamami peningkatan. Sedangkan untuk Tren lonjakkan negatif pada Active Case terjadi ketika probabilitas Recovered dan Deaths melampaui Cases infeksi, artinya jumlah Active Cases dilingkungan population mengalami penurunan. Hal ini diperkuat dengan garis pada Active Cases yang cenderung fluktuatif disekitar angka nol setelah terjadinya gelombang besar. Hal ini menunjukkan bahwa probabilitas population yang baru terinfeksi relatif simetris dengan probabilitas population yang sembuh atau meninggal.  \n",
        "            </li>\n",
        "        </ul>\n",
        "    </body>\n",
        "</html>"
      ]
    },
    {
      "cell_type": "markdown",
      "metadata": {
        "id": "vcEy7cD9RSq9"
      },
      "source": [
        "## **COVID-19 Daily Graph with 7-Day Moving Average**"
      ]
    },
    {
      "cell_type": "code",
      "execution_count": null,
      "metadata": {
        "collapsed": true,
        "id": "ZKkYzTQehQad"
      },
      "outputs": [],
      "source": [
        "df_weekly = province_stats_filtered.copy()\n",
        "\n",
        "# Convert Dtype \"Date\" dari object -> Dtype datetime\n",
        "df_weekly['Date'] = pd.to_datetime(df_weekly['Date'])"
      ]
    },
    {
      "cell_type": "code",
      "execution_count": null,
      "metadata": {
        "colab": {
          "base_uri": "https://localhost:8080/"
        },
        "id": "AYctssu-myS-",
        "outputId": "4b2f997b-f43a-4bc5-d4a1-c1d0208fe9bd"
      },
      "outputs": [],
      "source": [
        "df_weekly.info()"
      ]
    },
    {
      "cell_type": "code",
      "execution_count": null,
      "metadata": {
        "id": "o-dod6OyZpv-"
      },
      "outputs": [],
      "source": [
        "# Urutkan berdasarkan tanggal\n",
        "df_weekly.sort_values('Date', inplace=True)\n",
        "\n",
        "# Hitung 7-day moving average untuk masing-masing metrik\n",
        "df_weekly['Cases MA'] = df_weekly['Cases'].rolling(window=7).mean()\n",
        "df_weekly['Deaths MA'] = df_weekly['Deaths'].rolling(window=7).mean()\n",
        "df_weekly['Recovered MA'] = df_weekly['Recovered'].rolling(window=7).mean()\n",
        "df_weekly['Active Cases MA'] = df_weekly['Active Cases'].rolling(window=7).mean()"
      ]
    },
    {
      "cell_type": "code",
      "execution_count": null,
      "metadata": {
        "colab": {
          "base_uri": "https://localhost:8080/",
          "height": 0
        },
        "id": "jwY2L38PixVv",
        "outputId": "47d4ecdc-192a-4070-8c0f-80e64767e345"
      },
      "outputs": [],
      "source": [
        "# Plotting\n",
        "plt.figure(figsize=(14, 6)) # Set ukuran figure\n",
        "\n",
        "plt.plot(df_weekly['Date'],df_weekly['Cases MA'], label='Cases (7-day MA)', color='red')\n",
        "plt.plot(df_weekly['Date'],df_weekly['Deaths MA'], label='Deaths (7-day MA)', color='green')\n",
        "plt.plot(df_weekly['Date'],df_weekly['Recovered MA'], label='Recovered (7-day MA)', color='blue')\n",
        "plt.plot(df_weekly['Date'],df_weekly['Active Cases MA'], label='Active Cases (7-day MA)', color='orange')\n",
        "\n",
        "# Konfigurasi plot 7-day moving average\n",
        "plt.title('COVID-19 Daily Trends with 7-Day Moving Average')\n",
        "plt.xlabel('Date')\n",
        "plt.ylabel('Count')\n",
        "plt.legend()\n",
        "plt.grid(True)\n",
        "plt.tight_layout()\n",
        "plt.show()\n",
        "\n",
        "plt.show()"
      ]
    },
    {
      "cell_type": "markdown",
      "metadata": {
        "id": "F8fdjUTI4xbb"
      },
      "source": [
        "Dilihat dari Chart **COVID-19 Daily Trends with 7-Day Moving Average** diatas :\n",
        "*   Dua gelombang besar pandemi tercermin sangat jelas. Periode pertama pada pertengahan 2021 kemungkinan varian delta dan Periode kedua terjadi pada awal 2022 kemungkinan varian omicron.\n",
        "*   Kasus kematian naik mengikuti pola lonjakan kasus, menunjukkan bahwa meskipun kasus tinggi, tingkat kematian lebih rendah di gelombang kedua.\n",
        "*   Recovered cukup tinggi tetapi cepat menurun saat cases menurun, efektivitas lockdown, vaksinasi dan lain-lain.\n",
        "*   Nilai negatif pada Cases Active merupakan indikator positif bahwa pandemi bisa dikendalikan.\n",
        "\n",
        "\n"
      ]
    },
    {
      "cell_type": "markdown",
      "metadata": {
        "id": "xUx9IGsVRbgA"
      },
      "source": [
        "## **Comparative Analysis of Covid-19 Daily Trends Using Logarithmic Analysis**"
      ]
    },
    {
      "cell_type": "code",
      "execution_count": null,
      "metadata": {
        "id": "U8yFp3b5LUG-"
      },
      "outputs": [],
      "source": [
        "# Copy dataset yang sudah bersih\n",
        "cases_vs_deaths = province_stats_filtered.copy()"
      ]
    },
    {
      "cell_type": "code",
      "execution_count": null,
      "metadata": {
        "id": "GzhRIifIMoUD"
      },
      "outputs": [],
      "source": [
        "# 1. Seleksi kolom yang akan digunakan\n",
        "used_columns = cases_vs_deaths[['Date','Cases','Deaths','Recovered']]"
      ]
    },
    {
      "cell_type": "code",
      "execution_count": null,
      "metadata": {
        "id": "SZNrLXyPM6iV"
      },
      "outputs": [],
      "source": [
        "# 2. Convert ke long format\n",
        "df_long = used_columns.melt(\n",
        "    id_vars='Date',\n",
        "    var_name='Metric',\n",
        "    value_name='Value'\n",
        ")"
      ]
    },
    {
      "cell_type": "code",
      "execution_count": null,
      "metadata": {
        "colab": {
          "base_uri": "https://localhost:8080/",
          "height": 0
        },
        "id": "pqstOiVJZEpV",
        "outputId": "8f02cbe3-d1c1-4793-c2b8-dc3060cec17b"
      },
      "outputs": [],
      "source": [
        "df_long"
      ]
    },
    {
      "cell_type": "code",
      "execution_count": null,
      "metadata": {
        "colab": {
          "base_uri": "https://localhost:8080/"
        },
        "id": "5Z1VAQMDNUOt",
        "outputId": "6947ca35-de88-4715-c70a-14d0143af5e3"
      },
      "outputs": [],
      "source": [
        "# Check Min Max row Value In df_long\n",
        "Check_Min_Max_log = df_long.agg({\n",
        "    \"Value\": [\"min\",\"max\"],\n",
        "})\n",
        "print(Check_Min_Max_log)"
      ]
    },
    {
      "cell_type": "code",
      "execution_count": null,
      "metadata": {
        "id": "ACZ3_uMeZEpa"
      },
      "outputs": [],
      "source": [
        "# Ganti nilai 0 menjadi 1 pada kolom 'Value' untuk metrik 'Cases' dan 'Deaths'\n",
        "# Ini adalah pendekatan umum untuk skala log, karena log(0) tidak terdefinisi\n",
        "# df_long.loc[(df_long['Metric'].isin(['Cases', 'Deaths'])) & (df_long['Value'] == 0), 'Value'] = 1\n",
        "\n",
        "# Jika ada nilai negatif (ini seharusnya tidak terjadi untuk kasus/kematian kumulatif,\n",
        "# tetapi bisa terjadi jika data sumber Anda memiliki anomali atau data harian \"New Cases\" yang dihitung salah),\n",
        "# Anda bisa menggantinya dengan 1 atau nilai positif kecil.\n",
        "# df_long.loc[(df_long['Metric'].isin(['Cases', 'Deaths'])) & (df_long['Value'] < 1), 'Value'] = 1"
      ]
    },
    {
      "cell_type": "code",
      "execution_count": null,
      "metadata": {
        "colab": {
          "base_uri": "https://localhost:8080/",
          "height": 0
        },
        "id": "Fsu5MYO5ILVV",
        "outputId": "7a1b20a3-304c-4153-f439-dfaa06fe2e80"
      },
      "outputs": [],
      "source": [
        "# 3. Plot\n",
        "# # Filter outlier (contoh: nilai > 99th percentile)\n",
        "# q95 = df_long['Value'].quantile(0.95) # quartile 95\n",
        "# df_clean = df_long[df_long['Value'] <= q95]\n",
        "\n",
        "# Plot interaktif\n",
        "fig = px.line(\n",
        "    df_long,\n",
        "    x='Date',\n",
        "    y='Value',\n",
        "    color='Metric',\n",
        "    log_y=True, # mengubah nilai 0 menjadi 1 saat akan melakukan plot, tetapi jika terdapat nilai minus(-) maka akan error\n",
        "    title=\"Interaktif: Tren Harian Infeksi Kasus & Kematian COVID-19 (Skala Log, 2020–2022)\",\n",
        "    labels={\"Value\": \"Jumlah (Log)\", \"Date\": \"Date\"},\n",
        "    template='plotly_dark'\n",
        ")\n",
        "\n",
        "# Konfigurasi layout interaktif\n",
        "fig.update_layout(\n",
        "    xaxis=dict(\n",
        "        rangeslider=dict(visible=False), # untuk menampilkan slider, jika true dia ditampilkan jika false sebaliknya\n",
        "        type=\"date\",\n",
        "        title_font=dict(size=24), # untuk mengatur ukuran font \"Tanggal\"\n",
        "        tickfont=dict(size=10) # Untuk mengatur ukuran font \"Bulan dan Tahun\"\n",
        "    ),\n",
        "    hovermode=\"x unified\",\n",
        "    legend_title_text='Metric',\n",
        "    margin=dict(l=20, r=20, t=50, b=10)\n",
        ")\n",
        "\n",
        "fig.show()"
      ]
    },
    {
      "cell_type": "markdown",
      "metadata": {
        "id": "YqcUPmX1ZEpf"
      },
      "source": [
        "<!DOCTYPE html>\n",
        "<!DOCTYPE html>\n",
        "<html>\n",
        "<head>\n",
        "    <style>\n",
        "        h3{\n",
        "            text-align:justify ;\n",
        "            font-weight: bold;\n",
        "        }\n",
        "        .styled-text{\n",
        "            text-align:justify ;\n",
        "            font-size: 16 px;\n",
        "            /* color: white; */\n",
        "            margin: 30px;\n",
        "            font-family: \"Times New Roman\";\n",
        "            margin-bottom: 0.0;\n",
        "            margin-top: 0.0;\n",
        "        }\n",
        "    </style>\n",
        "</head>\n",
        "    <body>\n",
        "        <h3 href=\"h3\">Analisis Tren Harian Infeksi Kasus & Kematian COVID-19 (Skala Log, 2020–2022)</h3>\n",
        "        <p class=\"styled-text\"> Grafik ini memvisualisasikan infeksi Cases Covid-19, Recovered dan meninggal harian menggunakan skala logaritmik (Sumbu Y) dari 2020 hingga 2022</p>\n",
        "        <ul style=\"margin-top: 0;\">\n",
        "            <li class=\"styled-text\"><strong>Gelombang pertama (Sekitar Juli-Agustus 2021) :</strong>Terlihat puncak yang sangat mencolok pada Kasus dan Kematian di pertengahan tahun 2021 (gelombang Delta). Kemudian Recovered menunjukkan tren peningkatan yang signifikan mengikuti pola Kasus dan sering kali dengan angka yang lebih tinggi dari pada puncak Kasus infeksi. Hal ini menggambarkan sistem kesehatan dalam mendokumentasikan pemulihan setelah kenaikan jumlah kasus.</li>\n",
        "            <li class=\"styled-text\"><strong>Gelombang Kedua (Sekitar Februari-Maret 2022) :</strong>Gelombang ke 2 yang terjadi diawal tahun 2022 (gelombang omnicron) terlihat sangat jelas. Kasus Infeksi covid-19 menunjukkan lonjakan besar dan bahkan Recovered ikut menunjukkan lonjakan besar, yang dimana sampai melampaui Gelombang puncak dari Kasus Infeksi. Namun gelombang Kematian tampak lebih rendah dibandingkan gelombang Delta, ini mengindikasikan bahwa efisiensi pemulihan yang sangat tinggi.</li>\n",
        "            <li class=\"styled-text\"><strong>Tren Menurun Akhir Periode :</strong> Menjelang akhir periode dataset (pertengahan hingga akhir 2022), semua metric Kasus Infeksi, Recovered dan Deaths menunjukkan penurunan yang signifikan dan konsisten, kembali kepada tingkat terendahnya.</li>\n",
        "        </ul>\n",
        "         <h4 style = \"font-weight: bold; font-size: 16px; margin: 30px; margin-top: 0.0; margin-bottom: 0.0;\">Result: </h4>\n",
        "         <p class=\"styled-text\"> Melihat hasil visualisasi kasus Recovered terlihat mendominasi pada grafik, pada sebagian periode volume kasus Recovered terlihat lebih tinggi atau setidaknya ekuivalen dengan Kasus infeksi setelah puncak gelombang. Hal ini merupakan indikator positif bahwa sebagian individu yang terinfeksi berhasil sembuh. Proporsi Deaths dari visualisasi grafik, menunjukkan bahwa jumlah kematian daily jauh lebih rendah dibandingkan dengan Kasus Infeksi dan Kasus Sembuh. Lonjakan yang terjadi pada Kasus Infeksi selalu diikuti juga oleh Kasus Recovered, hal ini secara alami mengarah pada peningkatan Kasus Recovered setelah periode pemulihan.</p>\n",
        "    </body>\n",
        "</html>"
      ]
    },
    {
      "cell_type": "markdown",
      "metadata": {
        "id": "AkmMnws4RnpO"
      },
      "source": [
        "## **Covid-19 Cases Distribution Map Graphic per Province:**"
      ]
    },
    {
      "cell_type": "code",
      "execution_count": null,
      "metadata": {
        "id": "yKZhBDfMRxfn"
      },
      "outputs": [],
      "source": [
        "province_stats = province_stats_filtered.copy()"
      ]
    },
    {
      "cell_type": "code",
      "execution_count": null,
      "metadata": {
        "colab": {
          "base_uri": "https://localhost:8080/",
          "height": 0
        },
        "id": "-j_xo6XFZEpf",
        "outputId": "28affad8-e7fc-4061-c2b0-f30fabfe05da"
      },
      "outputs": [],
      "source": [
        "province_stats"
      ]
    },
    {
      "cell_type": "code",
      "execution_count": null,
      "metadata": {
        "id": "ahQIVwVBTGPo"
      },
      "outputs": [],
      "source": [
        "# 1. Seleksi kolom yang akan digunakan\n",
        "# used_columns_stats = province_stats[[\"Date\",\"Province\",\"Longitude\",\"Latitude\"]]"
      ]
    },
    {
      "cell_type": "code",
      "execution_count": null,
      "metadata": {
        "id": "i1I9T7M8b3c6"
      },
      "outputs": [],
      "source": [
        "# 2. Urutkan berdasarkan tanggal dan grupkan per provinsi untuk mendapatkan entri terbaru\n",
        "# latest_province_data = province_stats.sort_values('Date').groupby('Province').last().reset_index()"
      ]
    },
    {
      "cell_type": "code",
      "execution_count": null,
      "metadata": {
        "id": "Wot9imvUb3c6"
      },
      "outputs": [],
      "source": [
        "# 3. Pilih kolom-kolom yang ingin dipetakan (sesuai permintaan Anda)\n",
        "cases_columns = ['Cases', 'Deaths', 'Recovered']"
      ]
    },
    {
      "cell_type": "code",
      "execution_count": null,
      "metadata": {
        "colab": {
          "base_uri": "https://localhost:8080/"
        },
        "id": "O6e_TYZaZEpg",
        "outputId": "7efac36b-7259-4a2c-be9a-5fdbab78d2b7"
      },
      "outputs": [],
      "source": [
        "min_max_value = province_stats.agg({\n",
        "    'Cases' : ['min', 'max'],\n",
        "    'Deaths' : ['min', 'max'],\n",
        "    'Recovered' : ['min', 'max'],\n",
        "    'Active Cases' : ['min', 'max'],\n",
        "})\n",
        "\n",
        "print(min_max_value)"
      ]
    },
    {
      "cell_type": "code",
      "execution_count": null,
      "metadata": {
        "id": "RBU8eUQdk9qv"
      },
      "outputs": [],
      "source": [
        "from urllib.request import urlopen\n",
        "import json\n",
        "\n",
        "with open(r\"Indonesia_province.json\", 'r') as f: # r didepan memberi tahu Python untuk memperlakukan backslash secara literal, bukan sebagai karakter escape.\n",
        "    geojson_data = json.load(f)"
      ]
    },
    {
      "cell_type": "code",
      "execution_count": null,
      "metadata": {
        "colab": {
          "base_uri": "https://localhost:8080/",
          "height": 0
        },
        "id": "htJWql9Ub3c6",
        "outputId": "1296aaef-1609-46fe-94a1-e94c2ed9ee9b"
      },
      "outputs": [],
      "source": [
        "# 4. Membuat Fungsi untuk Peta\n",
        "# Kita akan membuat satu peta per jenis kasus agar lebih mudah dibaca.\n",
        "# Atau, Anda bisa membuat satu peta dengan drop-down untuk memilih jenis kasus.\n",
        "# color_scale='RdYlGn_r' --> 'RdYlGn_r' merupakan singkatan dari warna Red,Yellow and Green, fungsi_r untuk reverse. Yang artinya posisi warna menjadi ditukar.\n",
        "def create_case_map(province_stats,case_type = cases_columns, geojson = geojson_data, color_scale='RdYlGn_r', title_suffix=\"\"):\n",
        "    \"\"\"\n",
        "    Membuat peta interaktif untuk jenis kasus tertentu.\n",
        "    df: DataFrame yang sudah diagregasi per provinsi.\n",
        "    case_type: String, nama kolom kasus (e.g., 'Cases').\n",
        "    color_scale: Skema warna Plotly (misalnya 'Reds', 'Greens', 'RdYlGn_r' untuk Merah-Kuning-Hijau terbalik).\n",
        "                 '_r' berarti reverse, jadi merah=tinggi, hijau=rendah.\n",
        "    title_suffix: String tambahan untuk judul peta.\n",
        "    \"\"\"\n",
        "    fig = px.scatter_map(province_stats,\n",
        "                            lat=\"Latitude\",\n",
        "                            lon=\"Longitude\",\n",
        "                            size=case_type, # Ukuran titik berdasarkan jumlah kasus\n",
        "                            color=case_type, # Warna titik berdasarkan jumlah kasus\n",
        "                            color_continuous_scale=color_scale, # Skema warna\n",
        "                            size_max=40, # Ukuran maksimal titik\n",
        "                            zoom=4, # Zoom awal peta\n",
        "                            hover_name=\"Province\", # Teks yang muncul saat hover\n",
        "                            hover_data={\n",
        "                                \"Date\": \"|%Y-%m-%d\", # Format tanggal di hover\n",
        "                                \"Province\": True,\n",
        "                                case_type: True,\n",
        "                                \"Cases\": True,\n",
        "                                \"Deaths\": True,\n",
        "                                \"Recovered\": True,\n",
        "                                \"Latitude\": False, # Sembunyikan dari hover\n",
        "                                \"Longitude\": False # Sembunyikan dari hover\n",
        "                            },\n",
        "                            # title=f'\\nPeta Sebaran {case_type} per Provinsi {title_suffix}'\n",
        "                            map_style=\"open-street-map\" # Gaya peta, bisa 'open-street-map', 'carto-positron', dll.\n",
        "                           )\n",
        "    fig.update_layout(\n",
        "        margin={\"r\":0,\"t\":30,\"l\":0,\"b\":0},\n",
        "        hovermode=\"x unified\",\n",
        "        coloraxis_colorbar=dict(\n",
        "            title=case_type # Judul color bar\n",
        "        ),\n",
        "        title={\n",
        "                'text': f\"Peta Sebaran {case_type} per Provinsi {title_suffix}\", # Teks judul\n",
        "                'y': 0.98,              # Posisi vertikal judul (0.0 = bawah, 1.0 = atas figur)\n",
        "                'x': 0.01,               # Posisi horizontal judul (0.0 = kiri, 0.5 = tengah, 1.0 = kanan figur)\n",
        "                'xanchor': 'left',    # Anchor horizontal (titik referensi 'x')\n",
        "                'yanchor': 'top'        # Anchor vertikal (titik referensi 'y')\n",
        "            }\n",
        "    )\n",
        "    return fig\n",
        "\n",
        "# # 5. Tampilkan Peta untuk Setiap Jenis Kasus ---\n",
        "all_figs = []\n",
        "for col in cases_columns:\n",
        "    if col == 'Recovered':\n",
        "        fig_recovered = create_case_map(province_stats, 'Recovered', color_scale='YlGn', geojson=geojson_data)\n",
        "        all_figs.append(fig_recovered.show())\n",
        "    else:\n",
        "        fig = create_case_map(province_stats, col, color_scale='RdYlGn_r', geojson= geojson_data)\n",
        "        all_figs.append(fig.show())\n",
        "\n",
        "# Contoh pemanggilan fungsi untuk recovered dengan skala warna berbeda\n",
        "# fig_recovered = create_case_map(province_stats, 'Recovered', color_scale='YlGn', geojson=geojson_data, title_suffix='')\n",
        "# fig_recovered.show()"
      ]
    },
    {
      "cell_type": "markdown",
      "metadata": {
        "id": "tVMossI7ZEph"
      },
      "source": [
        "<!DOCTYPE html>\n",
        "<!DOCTYPE html>\n",
        "<html>\n",
        "<head>\n",
        "    <style>\n",
        "        h3{\n",
        "            text-align:justify ;\n",
        "            font-weight: bold;\n",
        "        }\n",
        "        .styled-text{\n",
        "            text-align:justify ;\n",
        "            font-size: 16 px;\n",
        "            /* color: white; */\n",
        "            margin: 30px;\n",
        "            font-family: \"Times New Roman\";\n",
        "            margin-bottom: 0.0;\n",
        "            margin-top: 0.0;\n",
        "        }\n",
        "    </style>\n",
        "</head>\n",
        "    <body>\n",
        "        <h3 href=\"h3\">Analisis Peta Sebaran Cases Covid-19, Deaths dan Recovered Daily per Provinsi</h3>\n",
        "        <p class=\"styled-text\"> Peta sebaran ini memvisualisasikan infeksi Cases Covid-19, Recovered dan Deaths harian dari 2020 hingga 2022</p>\n",
        "        <ul style=\"margin-top: 0;\">\n",
        "            <li class=\"styled-text\"><strong>Peta Sebaran Cases per Provinsi :</strong> Warna dan ukuran titik koordinat pada peta menunjukkan jumlah kasus dan keparahan suatu provinsi. Misalnya Jawa Barat yang memiliki ukuran koordinat yang lebih besar dan warna yang cenderung merah dan oranye, hal ini menandakan tingginya dan banyaknya jumlah kasus di Jawa Barat. Terlihat pada peta titik koordinat yang lebih besar ukurannya cenderung terkonsentrasi di pulau Jawa, Sumatera bagian selatan, Sulawesi selatan, Kalimantan timur dan Nusa Tenggara Timur. Hal mengindikasikan wilayah yang padat penduduk</li>\n",
        "            <li class=\"styled-text\"><strong>Peta Sebaran Deaths per Provinsi :</strong> Pola warna dan ukuran titik koordinat memiliki pola yang ekuivalen dengan Cases, dengan lingkaran besar (jumlah kematian tinggi) terkonsentrasi di wilayah yang sama (Jawa, sebagian Sumatera dan Bali)</li>\n",
        "            <li class=\"styled-text\"><strong>Peta Sebaran Recovered per Provinsi :</strong> Pola titik koordinat menunjukkan konsistensi, dengan kompabilitas yang tinggi dipulau Jawa, Papua, Sumatera dan Bali.</li>\n",
        "        </ul>\n",
        "         <h4 style = \"font-weight: bold; font-size: 16px; margin: 30px; margin-top: 0.0; margin-bottom: 0.0;\">Result: </h4>\n",
        "         <p class=\"styled-text\"> Melihat hasil visualisasi kasus Recovered terlihat mendominasi pada grafik, pada sebagian periode volume kasus Recovered terlihat lebih tinggi atau setidaknya ekuivalen dengan Kasus infeksi setelah puncak gelombang. Hal ini merupakan indikator positif bahwa sebagian individu yang terinfeksi berhasil sembuh. Proporsi Deaths dari visualisasi grafik, menunjukkan bahwa jumlah kematian daily jauh lebih rendah dibandingkan dengan Kasus Infeksi dan Kasus Sembuh. Lonjakan yang terjadi pada Kasus Infeksi selalu diikuti juga oleh Kasus Recovered, hal ini secara alami mengarah pada peningkatan Kasus Recovered setelah periode pemulihan.</p>\n",
        "    </body>\n",
        "</html>"
      ]
    },
    {
      "cell_type": "markdown",
      "metadata": {
        "id": "2f1HyM5JrUdl"
      },
      "source": [
        "## **Graph of Cases per 100,000 Population (Cumulative)**"
      ]
    },
    {
      "cell_type": "markdown",
      "metadata": {
        "id": "RZZFsq6DZEph"
      },
      "source": [
        "Rumus :\n",
        "$$ Kasus\\:per\\:100.000= \\left (\\frac {\\:\\:Number\\:of\\:Cases\\:of\\:Specific\\:Category\\:\\:} {\\:Population\\:} \\right)\\:×\\:100.000$$"
      ]
    },
    {
      "cell_type": "code",
      "execution_count": null,
      "metadata": {
        "id": "Hi6QCIH-ZEph"
      },
      "outputs": [],
      "source": [
        "df_cases_kumulatif = province_stats_filtered.copy()"
      ]
    },
    {
      "cell_type": "code",
      "execution_count": null,
      "metadata": {
        "colab": {
          "base_uri": "https://localhost:8080/"
        },
        "id": "_KsmZSL5ZEph",
        "outputId": "b1aba86c-7176-4e25-d0b8-2cfb3b2951da",
        "vscode": {
          "languageId": "ruby"
        }
      },
      "outputs": [],
      "source": [
        "Total_Cases_per_100rb = round((df_cases_kumulatif['Total Cases'] / df_cases_kumulatif['Population']) * 100000, 2)\n",
        "print(type(Total_Cases_per_100rb))\n",
        "\n",
        "Total_Recovered_per_100rb = round((df_cases_kumulatif['Total Recovered'] / df_cases_kumulatif['Population']) * 100000, 2)\n",
        "print(type(Total_Recovered_per_100rb))\n",
        "\n",
        "Total_ActiveCases_per_100rb = round((df_cases_kumulatif['Total Active Cases'] / df_cases_kumulatif['Population']) * 100000, 2)\n",
        "print(type(Total_ActiveCases_per_100rb))"
      ]
    },
    {
      "cell_type": "code",
      "execution_count": null,
      "metadata": {
        "id": "L-R_wvPJZEpi"
      },
      "outputs": [],
      "source": [
        "# Using insert() to add a column at position 2 (3rd column)\n",
        "df_cases_kumulatif.insert(21, \"Total Cases per 100rb\", Total_Cases_per_100rb, True)\n",
        "df_cases_kumulatif.insert(23, \"Total Recovered per 100rb\", Total_Recovered_per_100rb, True)\n",
        "df_cases_kumulatif.insert(25, \"Total Active Cases per 100rb\", Total_ActiveCases_per_100rb, True)"
      ]
    },
    {
      "cell_type": "code",
      "execution_count": null,
      "metadata": {
        "colab": {
          "base_uri": "https://localhost:8080/"
        },
        "id": "wwdwMPqNZEpi",
        "outputId": "05860efd-270a-4815-d957-f7a75a84262c"
      },
      "outputs": [],
      "source": [
        "df_cases_kumulatif.info()"
      ]
    },
    {
      "cell_type": "code",
      "execution_count": null,
      "metadata": {
        "colab": {
          "base_uri": "https://localhost:8080/",
          "height": 0
        },
        "id": "AgwXYVjUZEpi",
        "outputId": "4a7f9461-3763-4166-b884-5f38901fafbc"
      },
      "outputs": [],
      "source": [
        "df_cases_kumulatif.head()"
      ]
    },
    {
      "cell_type": "code",
      "execution_count": null,
      "metadata": {
        "colab": {
          "base_uri": "https://localhost:8080/",
          "height": 0
        },
        "id": "0NvgDjfpZEpi",
        "outputId": "ec541e2f-ab0b-4d31-8a53-6071325c8171"
      },
      "outputs": [],
      "source": [
        "from plotly.subplots import make_subplots\n",
        "\n",
        "# Agregasi data harian secara nasional atau per provinsi (jika Anda ingin melihat tren kumulatif)\n",
        "# Untuk line chart, kita biasanya melihat tren dari waktu ke waktu.\n",
        "# Karena Anda ingin per daerah, mari kita pilih salah satu provinsi saja untuk contoh.\n",
        "# Atau, jika Anda ingin melihat tren nasional, lakukan agregasi total.\n",
        "\n",
        "# Contoh: Agregasi per tanggal untuk melihat tren nasional (jika data Anda belum diagregasi per tanggal)\n",
        "# Anda perlu memutuskan data mana yang akan Anda gunakan untuk line chart.\n",
        "# Misalnya, jika Anda ingin total harian:\n",
        "daily_summary = df_cases_kumulatif.groupby('Date').agg({ # .agg() digunakan untuk menerapkan satu atau lebih fungsi agregasi (seperti sum, mean, count, max, min, dll.)\n",
        "    'Total Cases per 100rb': 'sum', # Sum di gunakan untuk mengagregasi (menggabungkan) data harian dari berbagai lokasi (provinsi/daerah) menjadi satu nilai total untuk setiap tanggal. jadi terhitung untuk nasional\n",
        "    'Total Recovered per 100rb': 'sum',\n",
        "    'Total Deaths per 100rb': 'sum',\n",
        "    'Total Active Cases per 100rb': 'sum',\n",
        "}).reset_index()\n",
        "\n",
        "# Jika Anda ingin total kumulatif (sering digunakan untuk line chart tren):\n",
        "# daily_summary['Total Cases'] = daily_summary['Total Cases per 100rb']\n",
        "# daily_summary['Total Recovered'] = daily_summary['Total Recovered per 100rb']\n",
        "# daily_summary['Total Deaths'] = daily_summary['Total Deaths per 100rb']# cumsum() fungsi yang digunakan untuk menghitung jumlah kumulatif dari elemen dalam sebuah array, vektor, atau DataFrame\n",
        "# daily_summary['Total Active Cases'] = daily_summary['Total Active Cases per 100rb']\n",
        "\n",
        "\n",
        "# Buat Subplot dengan Sumbu Y Ganda\n",
        "fig = make_subplots(specs=[[{\"secondary_y\": True}]])\n",
        "\n",
        "# Tambahkan 'Total Deaths' ke sumbu Y kanan (sekunder)\n",
        "fig.add_trace(\n",
        "    go.Scatter(x=daily_summary['Date'], y=daily_summary['Total Cases per 100rb'], name='Total Cases', mode='lines', line=dict(color='blue')),\n",
        "    secondary_y=False,\n",
        ")\n",
        "# Tambahkan 'Total Recovered' ke sumbu Y kiri atau kanan, tergantung skalanya\n",
        "# Jika Recovered masih jauh lebih tinggi dari Deaths, mungkin bisa di sumbu Y kiri\n",
        "# Jika Recovered lebih mirip Deaths, bisa di sumbu Y kanan\n",
        "fig.add_trace(\n",
        "    go.Scatter(x=daily_summary['Date'], y=daily_summary['Total Recovered per 100rb'], name='Total Recovered', mode='lines', line=dict(color='green')),\n",
        "    secondary_y=False, # Sesuaikan ini\n",
        ")\n",
        "\n",
        "fig.add_trace(\n",
        "    go.Scatter(x=daily_summary['Date'], y=daily_summary['Total Deaths per 100rb'], name='Total Deaths', mode='lines', line=dict(color='red')),\n",
        "    secondary_y=True,\n",
        ")\n",
        "\n",
        "fig.add_trace(\n",
        "    go.Scatter(x=daily_summary['Date'], y=daily_summary['Total Active Cases per 100rb'], name='Total Active Cases', mode='lines', line=dict(color='orange')),\n",
        "    secondary_y=True,\n",
        ")\n",
        "# Tambahkan 'Total Cases' ke sumbu Y kiri (primer)\n",
        "\n",
        "# Konfigurasi layout\n",
        "fig.update_layout(\n",
        "    title_text='Tren Kasus COVID-19 (Kumulatif) Per 100.000 Population',\n",
        "    hovermode=\"x unified\" # Menampilkan semua info pada hover di tanggal yang sama\n",
        ")\n",
        "\n",
        "# Konfigurasi sumbu Y kiri\n",
        "fig.update_yaxes(title_text=\"Jumlah Kasus dan Sembuh (Kumulatif)\", secondary_y=False)\n",
        "# Konfigurasi sumbu Y kanan\n",
        "fig.update_yaxes(title_text=\"Jumlah Mati dan Active Cases (Kumulatif)\", secondary_y=True)\n",
        "\n",
        "fig.show()"
      ]
    },
    {
      "cell_type": "markdown",
      "metadata": {
        "id": "C0-94wMWZEpj"
      },
      "source": [
        "### **Analisis Tren Pada Grafik:**\n",
        "\n",
        "1. Periode Awal (Awal 2021 - Pertengahan 2021):  \n",
        "    Ketiga garis (Kasus, Sembuh, Kematian) menunjukkan kenaikan yang relatif landai pada awalnya. Ini mungkin mencerminkan periode awal pandemi atau gelombang pertama yang lebih terkontrol.\n",
        "    Garis Biru (Total Cases) dan Hijau (Total Recovered) bergerak beriringan, menunjukkan bahwa sebagian besar kasus yang terdeteksi juga berhasil sembuh.\n",
        "    Garis Merah (Total Deaths) tetap sangat rendah dibandingkan dengan dua garis lainnya, konsisten dengan skala sumbu Y sekunder yang jauh lebih kecil.\n",
        "2. Periode Peningkatan Pesat (Pertengahan 2021 - Akhir 2021):  \n",
        "    Terlihat adanya lonjakan sangat tajam pada ketiga garis. Ini menunjukkan adanya gelombang kasus COVID - 19 yang signifikan dalam periode tersebut.\n",
        "    Total Cases (Biru) menunjukkan kenaikan paling dramatis, mencapai puncaknya (atau stabil pada tingkat tinggi) mendekati 800 ribu. Ini mengindikasikan penyebaran virus yang sangat cepat dan luas.\n",
        "    Total Recovered (Hijau) mengikuti tren Total Cases dengan jarak yang relatif dekat, namun dengan sedikit jeda. Ini wajar karena kesembuhan terjadi setelah infeksi. Kesenjangan antara biru dan hijau mewakili kasus aktif pada saat itu.\n",
        "    Total Deaths (Merah) juga menunjukkan peningkatan yang signifikan, meskipun dalam skala yang lebih kecil (mencapai sekitar 15 ribu). Lonjakan kematian ini berkorelasi dengan lonjakan kasus,yang merupakan konsekuensi yang dapat diperkirakan dari gelombang infeksi besar.\n",
        "3. Periode Stabilisasi/Lanjutan (Akhir 2021 - Awal 2022):  \n",
        "    Setelah lonjakan tajam, ketiga garis terlihat cenderung mendatar atau sedikit meningkat perlahan. Ini menunjukkan bahwa laju penambahan kasus baru, kesembuhan, dan kematian telah melambat secara signifikan atau mencapai titik stabil.\n",
        "    Total Cases (Biru) dan Total Recovered (Hijau) hampir menyatu di puncak grafik, menunjukkan bahwa sebagian besar kasus yang terdeteksi telah berhasil sembuh, dan jumlah kasus aktif berkurang.\n",
        "    Total Deaths (Merah) juga cenderung mendatar, menunjukkan bahwa jumlah kematian baru harian telah menurun atau stabil pada tingkat yang jauh lebih rendah dibandingkan puncak gelombang.\n",
        "    \n",
        "    Kesimpulan Umum:  \n",
        "    Chart ini menggambarkan dampak gelombang besar COVID-19 yang terjadi antara pertengahan hingga akhir tahun 2021, yang menyebabkan peningkatan drastis dalam jumlah kasus, kesembuhan, dan kematian kumulatif. Setelah gelombang tersebut, situasi tampaknya telah terkendali dengan laju penambahan kasus dan kematian yang melambat, serta jumlah kasus sembuh yang mendekati jumlah total kasus.\n",
        "    Pentingnya menggunakan sumbu Y sekunder untuk \"Total Deaths\" adalah keputusan yang tepat karena rentang nilainya jauh berbeda dari total kasus dan kesembuhan, memungkinkan visualisasi tren kematian yang lebih jelas tanpa \"tenggelam\" oleh skala yang lebih besar.\n"
      ]
    },
    {
      "cell_type": "markdown",
      "metadata": {
        "id": "pWu5NuP0ZEpj"
      },
      "source": [
        "## **Graph of Active Cases, Recoveries and Deaths Ratio (Cumulative)**"
      ]
    },
    {
      "cell_type": "markdown",
      "metadata": {
        "id": "OOEqVodMZEpj"
      },
      "source": [
        "Rumus :\n",
        "$$ Category\\:Ratio= \\left (\\frac {\\:\\:Cumulative\\:Total\\:of\\:Certain\\:National\\:Categories\\:\\:} {Total\\:National\\:Cumulative\\:Cases} \\right)\\:×\\:100\\%$$"
      ]
    },
    {
      "cell_type": "code",
      "execution_count": null,
      "metadata": {
        "id": "DgNKxQI9ZEpj"
      },
      "outputs": [],
      "source": [
        "df_rasio_cases = df_cases_kumulatif.copy()"
      ]
    },
    {
      "cell_type": "code",
      "execution_count": null,
      "metadata": {
        "colab": {
          "base_uri": "https://localhost:8080/"
        },
        "id": "K9qeQss8ZEpj",
        "outputId": "c3f239cf-42ae-4eb1-a796-066ab18a783e"
      },
      "outputs": [],
      "source": [
        "df_rasio_cases.info()"
      ]
    },
    {
      "cell_type": "code",
      "execution_count": null,
      "metadata": {
        "id": "F_aKDNUwZEpj"
      },
      "outputs": [],
      "source": [
        "# Rasio_Kematian = round((df_rasio_cases[\"Total Deaths\"] / df_rasio_cases[\"Total Cases\"]), 2)\n",
        "# print(type(Rasio_Kematian))\n",
        "\n",
        "# Rasio_Sembuh = round((df_rasio_cases[\"Total Recovered\"] / df_rasio_cases[\"Total Cases\"]), 2)\n",
        "# print(type(Rasio_Sembuh))\n",
        "\n",
        "# Rasio_Kasus_Aktif = round((df_rasio_cases[\"Total Active Cases\"] / df_rasio_cases[\"Total Cases\"]), 2)\n",
        "# print(type(Rasio_Kasus_Aktif))"
      ]
    },
    {
      "cell_type": "code",
      "execution_count": null,
      "metadata": {
        "id": "8cddrT2cZEpk"
      },
      "outputs": [],
      "source": [
        "# Using insert() to add a column at position 2 (3rd column)\n",
        "# df_rasio_cases.insert(25, \"Rasio Kematian\", Rasio_Kematian, True)\n",
        "# df_rasio_cases.insert(26, \"Rasio Sembuh\", Rasio_Sembuh, True)\n",
        "# df_rasio_cases.insert(27, \"Rasio Kasus Aktif\", Rasio_Kasus_Aktif, True)"
      ]
    },
    {
      "cell_type": "code",
      "execution_count": null,
      "metadata": {
        "colab": {
          "base_uri": "https://localhost:8080/",
          "height": 0
        },
        "id": "nwyVENKRZEpk",
        "outputId": "462bfa56-2657-4e28-e58e-6c727da53066"
      },
      "outputs": [],
      "source": [
        "df_rasio_cases.head()"
      ]
    },
    {
      "cell_type": "code",
      "execution_count": null,
      "metadata": {
        "id": "DTn_WvHRZEpk"
      },
      "outputs": [],
      "source": [
        "# df adalah DataFrame Anda yang berisi data per provinsi per hari\n",
        "df_national_cumulative = df_rasio_cases.groupby('Date').agg(\n",
        "    Total_Cases_National=('Total Cases', 'sum'),\n",
        "    Total_Deaths_National=('Total Deaths', 'sum'),\n",
        "    Total_Recovered_National=('Total Recovered', 'sum'),\n",
        "    Total_Active_Cases_National=('Total Active Cases', 'sum')\n",
        ").reset_index()"
      ]
    },
    {
      "cell_type": "code",
      "execution_count": null,
      "metadata": {
        "colab": {
          "base_uri": "https://localhost:8080/"
        },
        "id": "d-_azdK2ZEpk",
        "outputId": "92787a66-509d-42ee-b86b-219d8de70363"
      },
      "outputs": [],
      "source": [
        "# Check_Min_Max = Feature_Data[['Total Cases per 100rb','Total Deaths per 100rb','Total Recovered per 100rb']].agg(['min,max'])\n",
        "Check_Min_Max = df_national_cumulative.agg({ # .agg() digunakan untuk menerapkan satu atau lebih fungsi agregasi (seperti sum, mean, count, max, min, dll.).)\n",
        "    'Total_Cases_National': ['min','max'], # Sum di gunakan untuk mengagregasi (menggabungkan) data harian dari berbagai lokasi (provinsi/daerah) menjadi satu nilai total untuk setiap tanggal. jadi terhitung untuk nasional\n",
        "    'Total_Deaths_National': ['min','max'],\n",
        "    'Total_Recovered_National': ['min','max'],\n",
        "    'Total_Active_Cases_National': ['min','max'],\n",
        "    # 'Total Active Cases per 100rb': ['min','max'],\n",
        "})\n",
        "print(Check_Min_Max)"
      ]
    },
    {
      "cell_type": "code",
      "execution_count": null,
      "metadata": {
        "id": "BIwHpOkjZEpk"
      },
      "outputs": [],
      "source": [
        "# Fungsi pembantu untuk menghindari Divisi oleh Nol\n",
        "def calculate_ratio(numerator, denominator):\n",
        "    return (numerator / denominator * 100) if denominator > 0 else 0\n",
        "\n",
        "df_national_cumulative['Rasio Kematian'] = df_national_cumulative.apply(\n",
        "    lambda row: calculate_ratio(row['Total_Deaths_National'], row['Total_Cases_National']), axis=1\n",
        ")\n",
        "df_national_cumulative['Rasio Sembuh'] = df_national_cumulative.apply(\n",
        "    lambda row: calculate_ratio(row['Total_Recovered_National'], row['Total_Cases_National']), axis=1\n",
        ")\n",
        "df_national_cumulative['Rasio Kasus Aktif'] = df_national_cumulative.apply(\n",
        "    lambda row: calculate_ratio(row['Total_Active_Cases_National'], row['Total_Cases_National']), axis=1\n",
        ")\n",
        "\n",
        "# Pastikan Rasio Kasus Aktif + Rasio Sembuh + Rasio Kematian = 100% (kecuali ada pembulatan)\n",
        "# Anda juga bisa menambahkan kolom verifikasi:\n",
        "df_national_cumulative['Total Rasio (%)'] = df_national_cumulative['Rasio Kematian'] + df_national_cumulative['Rasio Sembuh'] + df_national_cumulative['Rasio Kasus Aktif']\n",
        "\n",
        "# Data ini (df_national_cumulative) yang harus Anda gunakan untuk membuat grafik rasio."
      ]
    },
    {
      "cell_type": "code",
      "execution_count": null,
      "metadata": {
        "colab": {
          "base_uri": "https://localhost:8080/",
          "height": 0
        },
        "id": "mJ26YV6JZEpk",
        "outputId": "a9fe1c9f-f859-4a66-be1b-2d291f812a0b"
      },
      "outputs": [],
      "source": [
        "df_national_cumulative"
      ]
    },
    {
      "cell_type": "code",
      "execution_count": null,
      "metadata": {
        "id": "JhHt8CdtZEpl"
      },
      "outputs": [],
      "source": [
        "# df_comparasion_rasio_cases = df_rasio_cases.groupby('Date').agg({  # .agg() digunakan untuk menerapkan satu atau lebih fungsi agregasi(seperti sum, mean, count, max, min, dll.)\n",
        "#     'Rasio Kematian': 'sum', # Sum di gunakan untuk mengagregasi (menggabungkan) data harian dari berbagai lokasi (provinsi/daerah) menjadi satu nilai total untuk setiap tanggal. jadi terhitung untuk nasional\n",
        "#     'Rasio Sembuh': 'sum',\n",
        "#     'Rasio Kasus Aktif': 'sum',\n",
        "# }).reset_index()\n",
        "# print(type(df_comparasion_rasio_cases))"
      ]
    },
    {
      "cell_type": "code",
      "execution_count": null,
      "metadata": {
        "colab": {
          "base_uri": "https://localhost:8080/"
        },
        "id": "QPfpKHHdZEpl",
        "outputId": "edd7d75c-2b95-4e81-d89d-6dd7465f8221"
      },
      "outputs": [],
      "source": [
        "# Check_Min_Max = Feature_Data[['Total Cases per 100rb','Total Deaths per 100rb','Total Recovered per 100rb']].agg(['min,max'])\n",
        "Check_Min_Max = df_national_cumulative.agg({ # .agg() digunakan untuk menerapkan satu atau lebih fungsi agregasi (seperti sum, mean, count, max, min, dll.)\n",
        "    'Rasio Kematian': ['min','max'], # Sum di gunakan untuk mengagregasi (menggabungkan) data harian dari berbagai lokasi (provinsi/daerah) menjadi satu nilai total untuk setiap tanggal. jadi terhitung untuk nasional\n",
        "    'Rasio Sembuh': ['min','max'],\n",
        "    'Rasio Kasus Aktif': ['min','max'],\n",
        "})\n",
        "print(Check_Min_Max)"
      ]
    },
    {
      "cell_type": "code",
      "execution_count": null,
      "metadata": {
        "id": "f1lNCMWVZEpl"
      },
      "outputs": [],
      "source": [
        "# 1. Seleksi kolom yang akan digunakan\n",
        "df_used_rasio = df_national_cumulative[['Date','Rasio Kematian','Rasio Sembuh','Rasio Kasus Aktif']]"
      ]
    },
    {
      "cell_type": "code",
      "execution_count": null,
      "metadata": {
        "id": "kB9LQVZ0ZEpl"
      },
      "outputs": [],
      "source": [
        "# 2. Convert ke long format, ini bertujuan untuk mengelompokkan DataFrame\n",
        "df_comparasion = df_used_rasio.melt(\n",
        "    id_vars='Date', # ini berisi Date yang digunakan sebagai\n",
        "    var_name='Metric', # ini berisi nama kolom yang digunakan\n",
        "    value_name='Value' # ini berisi nilai\n",
        ")"
      ]
    },
    {
      "cell_type": "code",
      "execution_count": null,
      "metadata": {
        "colab": {
          "base_uri": "https://localhost:8080/",
          "height": 0
        },
        "id": "5V3ZfZ8QZEpm",
        "outputId": "d08da53d-e263-4176-b1a1-9a871cd3b6ad"
      },
      "outputs": [],
      "source": [
        "# 3. Membuat Grafik\n",
        "fig = px.line(df_comparasion,\n",
        "              x='Date',\n",
        "              y='Value',\n",
        "              color='Metric',\n",
        "              title='Grafik Rasio Kasus Aktif, Sembuh dan Kematian Akumulatif',\n",
        "              labels={'Value': 'Rasio (%)', 'Date': 'Date'},\n",
        "              )\n",
        "fig.update_layout(hovermode=\"x unified\")\n",
        "fig.show()"
      ]
    },
    {
      "cell_type": "markdown",
      "metadata": {
        "id": "lRLhXQ_cZEpm"
      },
      "source": [
        "<!DOCTYPE html>\n",
        "<!DOCTYPE html>\n",
        "<html>\n",
        "<head>\n",
        "    <style>\n",
        "        h3{\n",
        "            text-align:justify ;\n",
        "            font-weight: bold;\n",
        "        }\n",
        "        .styled-text{\n",
        "            text-align:justify ;\n",
        "            font-size: 16 px;\n",
        "            /* color: white; */\n",
        "            margin: 30px;\n",
        "            font-family: \"Times New Roman\";\n",
        "            margin-bottom: 0.0;\n",
        "            margin-top: 0.0;\n",
        "        }\n",
        "    </style>\n",
        "</head>\n",
        "    <body>\n",
        "        <h3 href=\"h3\"> Analisis Grafik Rasio Kasus Aktif, Sembuh dan Kematian Akumulatif</h3>\n",
        "        <p class=\"styled-text\"> Grafik ini menunjukkan epidemiologis dari ketiga rasio dalam memperlihatkan bagaimana infeksi Cases Covid-19 mempengaruhi ketiga rasio yaitu Sembuh, meninggal dan Active Cases.</p>\n",
        "        <ul style=\"margin-top: 0;\">\n",
        "            <li class=\"styled-text\"><strong>Tren Rasio Sembuh :</strong> Grafik ini menunjukkan Rasio Sembuh yang stabil dan dominan pada tingkat yang tinggi, mendekati 90%-95% setelah fluktuasi di masa-masa awal pandemi (Maret-April 2020). Ini mengindikasikan bahwa sebagian besar individu yang terinfeksi COVID-19 di Indonesia berhasil pulih. Tingginya rasio kesembuhan ini adalah indikator positif tentang efektivitas penanganan kasus dan kapasitas sistem kesehatan untuk mengelola sebagian besar infeksi.</li>\n",
        "            <li class=\"styled-text\"><strong>Tren Rasio Active Cases :</strong> Setelah fase fluktuasi awal, Rasio Active Cases menunjukkan tren yang stabil pada tingkat yang sangat rendah mendekati 5% dan di sebagian periode kurang dari 5%. Hal ini menandakan bahwa proporsi Active Cases (dalam masa sakit atau isolasi) relatif kecil dengan total cases yang pernah ada, nilai yang rendah ini mencerminkan efektivitas dalam mengelola kasus dan mitigasi penyebaran lebih lanjut dari Active Cases</li>\n",
        "            <li class=\"styled-text\"><strong>Tren Rasio Meninggal :</strong> Setelah melewati fluktuasi periode awal, Rasio Meninggal menunjukkan tren yang konsisten sangat rendah dibawah 5%, bahkan mendekati 2%-3%. Hal ini mengindikasikan bahwa meskipun covid-19 penyakit yang serius, proporsi kasus yang berujung menjadi kematian di indonesia relatif kecil dibandingkan dengan total kasus yang terinfeksi. Tingkat ini sejalan dengan data global setelah gelombang pandewi awal dan menunjukkan kapasitas penanganan medis yang memadai.</li>\n",
        "        </ul>\n",
        "         <h4 style = \"font-weight: bold; font-size: 16px; margin: 30px; margin-bottom: 0.0;\">Result: </h4>\n",
        "         <p class=\"styled-text\"> Hasil ini menunjukkan bahwa mayoritas kasus covid-19 di indonesia berakhir dengan kesembuhan, yang dimana proporsi kasus aktif dan kematian relatif kecil dibandingkan dengan total cases. Tren ini memberikan gambaran tentang dampak kumulatif pandemi di indonesia dari perspektif rasio hasil kasus, dalam memfokuskan upaya pemulihan yang efektif.</p>\n",
        "    </body>\n",
        "</html>"
      ]
    },
    {
      "cell_type": "markdown",
      "metadata": {
        "id": "fEq2GvKIZEpm"
      },
      "source": [
        "## **Covid-19 Risk Zone Distribution Map Per Province in Indonesia**"
      ]
    },
    {
      "cell_type": "code",
      "execution_count": null,
      "metadata": {
        "id": "6kr6b29RZEpm"
      },
      "outputs": [],
      "source": [
        "df_zona_risiko = df_rasio_cases.copy()"
      ]
    },
    {
      "cell_type": "code",
      "execution_count": null,
      "metadata": {
        "colab": {
          "base_uri": "https://localhost:8080/"
        },
        "id": "zUixNpt1ZEpn",
        "outputId": "4b895b12-0331-41ae-ecf3-90e994192216",
        "vscode": {
          "languageId": "ruby"
        }
      },
      "outputs": [],
      "source": [
        "df_zona_risiko.info()"
      ]
    },
    {
      "cell_type": "code",
      "execution_count": null,
      "metadata": {
        "colab": {
          "base_uri": "https://localhost:8080/"
        },
        "id": "ux5LMD0UZEpn",
        "outputId": "2c97511b-acf2-4693-d82f-58e9ea3f034f",
        "vscode": {
          "languageId": "ruby"
        }
      },
      "outputs": [],
      "source": [
        "# Check_Min_Max = Feature_Data[['Total Cases per 100rb','Total Deaths per 100rb','Total Recovered per 100rb']].agg(['min,max'])\n",
        "Check_Min_Max = df_zona_risiko.agg({ # .agg() digunakan untuk menerapkan satu atau lebih fungsi agregasi (seperti sum, mean, count, max, min, dll.)\n",
        "    'Total Cases per 100rb': ['min','max'], # Sum di gunakan untuk mengagregasi (menggabungkan) data harian dari berbagai lokasi (provinsi/daerah) menjadi satu nilai total untuk setiap tanggal. jadi terhitung untuk nasional\n",
        "    'Total Recovered per 100rb': ['min','max'],\n",
        "    'Total Active Cases per 100rb': ['min','max'],\n",
        "    'Total Deaths per 100rb': ['min','max'],\n",
        "})\n",
        "print(Check_Min_Max)"
      ]
    },
    {
      "cell_type": "code",
      "execution_count": null,
      "metadata": {
        "colab": {
          "base_uri": "https://localhost:8080/",
          "height": 0
        },
        "id": "MCXqrHwPZEpn",
        "outputId": "37cd8644-e7bb-4359-c714-0bf47957fefb",
        "vscode": {
          "languageId": "ruby"
        }
      },
      "outputs": [],
      "source": [
        "# Check_Min_Max = Feature_Data[['Total Cases per 100rb','Total Deaths per 100rb','Total Recovered per 100rb']].agg(['min,max'])\n",
        "Check_Min_Max_Province = df_zona_risiko.groupby(\"Province\").agg({\n",
        "    'Total Cases per 100rb': ['min','max'], # Sum di gunakan untuk mengagregasi (menggabungkan) data harian dari berbagai lokasi (provinsi/daerah) menjadi satu nilai total untuk setiap tanggal. jadi terhitung untuk nasional\n",
        "    'Total Recovered per 100rb': ['min','max'],\n",
        "    'Total Active Cases per 100rb': ['min','max'],\n",
        "    'Total Deaths per 100rb': ['min','max'],\n",
        "})\n",
        "\n",
        "# Jika ingin mengatur properti tampilan (misalnya warna, lebar kolom, dll), kamu harus menggunakan .style terlebih dahulu sebelum memanggil .set_properties().\n",
        "display(Check_Min_Max_Province.map('{:.2f}'.format).style.set_table_styles([{'selector': 'th:td', 'props': [('text-align', 'justify')]}])) # menggunakan fungsi display(df) atau hanya mengetik df di sel kode. Ini akan menampilkan DataFrame sebagai tabel HTML"
      ]
    },
    {
      "cell_type": "code",
      "execution_count": null,
      "metadata": {
        "colab": {
          "base_uri": "https://localhost:8080/",
          "height": 0
        },
        "id": "fE1ROHf1ZEpn",
        "outputId": "9030df10-5525-4276-c82e-0201513e604d",
        "vscode": {
          "languageId": "ruby"
        }
      },
      "outputs": [],
      "source": [
        "# Mengecek nilai Quartile dan Melakukan uji coba menggunakan Persentil, hal ini dilakukan guna mempersiapkan THRESHOLD untuk Colums \"Zona Risiko\"\n",
        "\n",
        "# Tampilkan statistik deskriptif untuk kolom-kolom yang relevan\n",
        "print(df_zona_risiko[['Total Cases per 100rb', 'Total Recovered per 100rb', 'Total Deaths per 100rb']].describe())\n",
        "\n",
        "# Atau lihat histogram untuk visualisasi distribusi\n",
        "plt.figure(figsize=(15, 5))\n",
        "plt.subplot(1, 3, 1)\n",
        "sns.histplot(df_zona_risiko['Total Cases per 100rb'], bins=50)\n",
        "plt.title('Distribusi Total Cases per 100rb')\n",
        "plt.subplot(1, 3, 2)\n",
        "sns.histplot(df_zona_risiko['Total Recovered per 100rb'], bins=50)\n",
        "plt.title('Distribusi Total Recovered per 100rb')\n",
        "plt.subplot(1, 3, 3)\n",
        "sns.histplot(df_zona_risiko['Total Deaths per 100rb'], bins=50)\n",
        "plt.title('Distribusi Total Deaths per 100rb')\n",
        "plt.tight_layout()\n",
        "plt.show()\n",
        "\n",
        "# Lihat nilai persentil untuk mendapatkan gambaran yang lebih baik\n",
        "print(\"Percentiles for Total Cases per 100rb:\")\n",
        "print(df_zona_risiko['Total Cases per 100rb'].quantile([0.25, 0.5, 0.75, 0.90, 0.95, 0.99]))\n",
        "print(\"\\nPercentiles for Total Recovered per 100rb:\")\n",
        "print(df_zona_risiko['Total Recovered per 100rb'].quantile([0.25, 0.5, 0.75, 0.90, 0.95, 0.99]))\n",
        "print(\"\\nPercentiles for Total Deaths per 100rb:\")\n",
        "print(df_zona_risiko['Total Deaths per 100rb'].quantile([0.25, 0.5, 0.75, 0.90, 0.95, 0.99]))"
      ]
    },
    {
      "cell_type": "markdown",
      "metadata": {
        "id": "L1M7xSHjZEpo"
      },
      "source": [
        "Berikut merupakan Rumus perhitungan THRESHOLD untuk setiap metrik menggunakan P90 untuk kondisi HIGH dan P50 untuk kondisi MEDIUM :\n",
        "\n",
        "<!DOCTYPE html>\n",
        "<html>\n",
        "    <head>\n",
        "    <style>\n",
        "    table {\n",
        "        border-style: hidden;  /* solid, dotted, dashed, double, groove, ridge, inset, outset, none, hidden */\n",
        "        }\n",
        "    </style>\n",
        "    </head>\n",
        "    <body>\n",
        "        <table style=\"width: 65%;\">\n",
        "        <tr>\n",
        "            <td>\n",
        "            <table>\n",
        "                <tr>\n",
        "                <th>Metrik</th>\n",
        "                <th>Kondisi</th>\n",
        "                <th>Poin Ditambahkan</th>\n",
        "                </tr>\n",
        "                    <tr>\n",
        "                    <!-- # Baris TotaL Cases -->\n",
        "                    <td> Total Cases per 100rb</td>\n",
        "                    <td> >= [THRESHOLD_CASES_HIGH]</td>\n",
        "                    <td span align=\"center\"> 3</td>\n",
        "                    </tr>\n",
        "                    <tr>\n",
        "                    <td></td>\n",
        "                    <td> >= [THRESHOLD_CASES_MEDIUM]</td>\n",
        "                    <td span align=\"center\">2</td>\n",
        "                    </tr>\n",
        "                    <tr>\n",
        "                    <td>  </td>\n",
        "                    <td> > 0</td>\n",
        "                    <td span align=\"center\"> 1</td>\n",
        "                    </tr>\n",
        "                    <tr>\n",
        "                    <!-- # Baris TotaL Deaths -->\n",
        "                    <td>Total Deaths per 100rb</td>\n",
        "                    <td> >= [THRESHOLD_CASES_HIGH]</td>\n",
        "                    <td span align=\"center\">4</td>\n",
        "                    </tr>\n",
        "                    <tr>\n",
        "                    <td></td>\n",
        "                    <td> >= [THRESHOLD_CASES_MEDIUM]</td>\n",
        "                    <td span align=\"center\">2</td>\n",
        "                    </tr>\n",
        "                    <tr>\n",
        "                    <td></td>\n",
        "                    <td > > 0</td>\n",
        "                    <td span align=\"center\">1</td>\n",
        "                    </tr>\n",
        "                    <tr>\n",
        "                    <!-- # Baris TotaL Recovered -->\n",
        "                    <td>Total Recovered per 100rb</td>\n",
        "                    <td> >= [THRESHOLD_CASES_HIGH]</td>\n",
        "                    <td span align=\"center\">1</td>\n",
        "                    </tr>\n",
        "                    <tr>\n",
        "                    <td></td>\n",
        "                    <td> >= [THRESHOLD_CASES_MEDIUM]</td>\n",
        "                    <td span align=\"center\">0.5</td>\n",
        "                    </tr>\n",
        "            </table>\n",
        "            </td>\n",
        "            <td>\n",
        "        <table style=\"height: 70%;\">\n",
        "                <tr>\n",
        "                <th>Skor Total</th>\n",
        "                <th>Zona Risiko</th>\n",
        "                </tr>\n",
        "                <tr>\n",
        "                <td span align=\"center\">>= 5</td>\n",
        "                <td>Zona Merah</td>\n",
        "                </tr>\n",
        "                <tr>\n",
        "                <td span align=\"center\">>= 2 </td>\n",
        "                <td>Zona Kuning</td>\n",
        "                </tr>    \n",
        "                <tr>\n",
        "                <td span align=\"center\">< 2</td>\n",
        "                <td>Zona Hijau</td>\n",
        "                </tr>    \n",
        "            </table>\n",
        "            </td>\n",
        "        </tr>\n",
        "        </table>\n",
        "    </body>\n",
        "</html>\n",
        "\n",
        "1. Skor risiko dihitung berdasarkan tiga metrik utama:\n",
        "   - Total Kasus per 100 ribu penduduk\n",
        "   - Total Kematian per 100 ribu penduduk dan\n",
        "   - Total Kesembuhan per 100 ribu penduduk.\n",
        "1. Setiap metrik memberikan poin berdasarkan ambang batas tertentu:\n",
        "   - X poin untuk kondisi tinggi dan Y poin untuk kondisi sedang.  \n",
        "Misalnya, jika Total Kasus per 100 ribu penduduk di atas [threshold A], maka [skor A] ditambahkan.\n",
        "1. Skor total kemudian digunakan untuk mengklasifikasikan Zona Klasifikasi:\n",
        "   - Skor >= THRESHOLD High, menjadi Zona Merah\n",
        "   - Skor <= THRESHOLD High dan >= THRESHOLD Medium, menjadi Zona Kuning\n",
        "   - Skor < THRESHOLD Medium, menjadi Zona Hijau."
      ]
    },
    {
      "cell_type": "code",
      "execution_count": null,
      "metadata": {
        "colab": {
          "base_uri": "https://localhost:8080/"
        },
        "id": "9f7PRYMkZEpo",
        "outputId": "b7cfe72f-6418-46c7-d8ea-97005392ec41",
        "vscode": {
          "languageId": "ruby"
        }
      },
      "outputs": [],
      "source": [
        "# --- AMBANG BATAS BERDASARKAN PERSENTIL DATA  ---\n",
        "# Bisa menggunakan Persentil / Quartile Dalam menentukan THRESHOLD.\n",
        "# Disi saya menggunakan Persentil ke 90 untuk HIGH dan 50 untuk MEDIUM, yang bertujuan supaya proporsi zona yang berbeda-beda.\n",
        "\n",
        "# Total Recovered per 100rb\n",
        "    # Recovered tinggi mungkin bisa berarti penyebarannya luas, jadi kontribusinya ke skor bisa tricky.\n",
        "    # Jika kita menganggap recovered tinggi sebagai indikator penyebaran awal yang tinggi, maka bisa menambah skor.\n",
        "    # Jika kita ingin recovered tinggi mengurangi risiko, kita bisa menambahkan logika pengurangan skor.\n",
        "    # Untuk kesederhanaan awal, kita akan membiarkannya menambah skor jika Anda ingin\n",
        "    # itu mencerminkan volume epidemi.\n",
        "\n",
        "def calculate_risk_zone(row):\n",
        "    score = 0\n",
        "    # --- Penilaian Skor ---\n",
        "    # Memberi bobot lebih pada Kasus dan Kematian karena mereka indikator risiko utama\n",
        "    # Memberi poin lebih tinggi untuk ambang batas yang lebih tinggi\n",
        "\n",
        "    # Total Cases per 100rb\n",
        "    # Menggunakan P4 (2744.39) untuk batas \"tinggi\" dan P2 (678.68) untuk batas \"sedang\"\n",
        "    if row[\"Total Cases per 100rb\"] >= 2744.39: # P90\n",
        "        score += 3\n",
        "    elif row[\"Total Cases per 100rb\"] >= 678.68: # P50 (Median)\n",
        "        score += 2\n",
        "    elif row[\"Total Cases per 100rb\"] > 0: # 0 Artinya terdapat kasus, akan tetapi di bawah rata-rata, maka diberi nilai 1\n",
        "        score += 1\n",
        "\n",
        "    # Total Recovered per 100rb (Ini sangat penting untuk risiko)\n",
        "    # Untuk saat ini recovered tinggi menambah skor, jika itu mencerminkan volume.\n",
        "    # Namun, seringkali kita ingin recovered tinggi berarti risiko aktif lebih rendah\n",
        "    # Jika ingin mencerminkan \"beban kasus yang sudah sembuh\":\n",
        "    if row[\"Total Recovered per 100rb\"] >= 2669.91: # P90\n",
        "        score += 1 # Menunjukkan volume kasus yang besar sebelumnya\n",
        "    elif row[\"Total Recovered per 100rb\"] >= 577.64: # P50 (Median)\n",
        "        score += 0.5\n",
        "\n",
        "    # Kesembuhan (Bisa menjadi penambah atau pengurang, tergantung definisi risiko Anda)\n",
        "    # Jika Anda ingin recovered yang tinggi mengurangi risiko secara keseluruhan:\n",
        "    # if row[\"Total Recovered per 100rb\"] >= THRESHOLD_RECOVERED_HIGH:\n",
        "    #     score -= 1 # Contoh: mengurangi 1 poin risiko jika recovered sangat tinggi\n",
        "    # elif row[\"Total Recovered per 100rb\"] >= THRESHOLD_RECOVERED_MEDIUM:\n",
        "    #     pass # tidak menambah/mengurangi\n",
        "\n",
        "    # Total Deaths per 100rb\n",
        "    # Skalanya lebih kecil dikarenakan persentilnya juga kecil\n",
        "    if row[\"Total Deaths per 100rb\"] >= 83.47: # P90\n",
        "        score += 4 # Bobot lebih tinggi karena kematian adalah indikator keparahan\n",
        "    elif row[\"Total Deaths per 100rb\"] >= 15.81: # P50 (Median)\n",
        "        score += 2\n",
        "    elif row[\"Total Deaths per 100rb\"] > 0: # 0 Artinya terdapat Kematian, akan tetapi di bawah rata-rata, maka diberi nilai 1\n",
        "        score += 1\n",
        "\n",
        "    # --- Penentuan Zona Akhir ---\n",
        "    # Tujuannya adalah membagi provinsi ke 3 zona secara lebih merata\n",
        "    if score >= 5:  # Misalnya, kombinasi tinggi dari dua metrik utama\n",
        "        return \"Zona Merah\"\n",
        "    elif score >= 2: # Kombinasi moderat atau satu metrik tinggi\n",
        "        return \"Zona Kuning\"\n",
        "    else:\n",
        "        return \"Zona Hijau\" # kondisi low cases\n",
        "\n",
        "# Terapkan fungsi ini ke DataFrame Anda\n",
        "df_zona_risiko[\"Zona Risiko\"] = df_zona_risiko.apply(calculate_risk_zone, axis = 1)\n",
        "\n",
        "# Setelah menjalankan ini, periksa distribusinya:\n",
        "print(df_zona_risiko['Zona Risiko'].value_counts())"
      ]
    },
    {
      "cell_type": "code",
      "execution_count": null,
      "metadata": {
        "colab": {
          "base_uri": "https://localhost:8080/",
          "height": 0
        },
        "id": "WlmorW22ZEpo",
        "outputId": "431d8442-a3ea-4d2f-eeba-466a0c6b902b",
        "vscode": {
          "languageId": "ruby"
        }
      },
      "outputs": [],
      "source": [
        "df_zona_risiko.head()"
      ]
    },
    {
      "cell_type": "code",
      "execution_count": null,
      "metadata": {
        "colab": {
          "base_uri": "https://localhost:8080/",
          "height": 0
        },
        "id": "pz5wt49bZEpo",
        "outputId": "bc7bf7e8-41af-4c65-e196-c793faa0c140",
        "vscode": {
          "languageId": "ruby"
        }
      },
      "outputs": [],
      "source": [
        "# check apakah nama province di dataset dan json sama\n",
        "df_zona_risiko['Province'].isin([f['properties']['NAME_1'] for f in geojson_data['features']]).value_counts()"
      ]
    },
    {
      "cell_type": "code",
      "execution_count": null,
      "metadata": {
        "colab": {
          "base_uri": "https://localhost:8080/"
        },
        "id": "eLjhDz3-ZEpo",
        "outputId": "0d1f65ba-1193-4fd9-8ca7-fdd626889605"
      },
      "outputs": [],
      "source": [
        "# check name province in Dataset\n",
        "print(\"Nama Provinsi Unik di DataFrame Anda:\")\n",
        "print(sorted(df_zona_risiko['Province'].unique()))"
      ]
    },
    {
      "cell_type": "code",
      "execution_count": null,
      "metadata": {
        "colab": {
          "base_uri": "https://localhost:8080/"
        },
        "id": "RZbg7Z6YZEpp",
        "outputId": "668ea8fc-3c9f-4ee7-f7a7-d48d9523eeff",
        "vscode": {
          "languageId": "ruby"
        }
      },
      "outputs": [],
      "source": [
        "# check name province in geojson\n",
        "geojson_province_names = [feature['properties']['NAME_1'] for feature in geojson_data['features']]\n",
        "print(\"\\nNama Provinsi Unik di GeoJSON Anda:\")\n",
        "print(set(geojson_province_names)) # Menggunakan set untuk nama unik"
      ]
    },
    {
      "cell_type": "code",
      "execution_count": null,
      "metadata": {
        "id": "lCObP2nCZEpp",
        "vscode": {
          "languageId": "ruby"
        }
      },
      "outputs": [],
      "source": [
        "# name mapping bertujuan untuk menyamakan Province name di Geojson Dan Dataset.\n",
        "name_mapping = {'SulawesiBarat': 'Sulawesi Barat',\n",
        "                'Gorontalo' : 'Gorontalo',\n",
        "                'MalukuUtara': 'Maluku Utara',\n",
        "                'Bali' : 'Bali' ,\n",
        "                'JakartaRaya' : 'DKI Jakarta',\n",
        "                'Aceh' : 'Aceh',\n",
        "                'SumateraBarat' : 'Sumatera Barat',\n",
        "                'JawaTimur' : 'Jawa Timur',\n",
        "                'BangkaBelitung' : 'Kepulauan Bangka Belitung',\n",
        "                'JawaBarat' : 'Jawa Barat',\n",
        "                'PapuaBarat': 'Papua Barat',\n",
        "                'KalimantanTimur' : 'Kalimantan Timur',\n",
        "                'SulawesiUtara' : 'Sulawesi Utara',\n",
        "                'Papua' : 'Papua',\n",
        "                'SumateraSelatan' : 'Sumatera Selatan',\n",
        "                'SulawesiTenggara': 'Sulawesi Tenggara',\n",
        "                'KepulauanRiau' : 'Kepulauan Riau',\n",
        "                'KalimantanTengah' : 'Kalimantan Tengah',\n",
        "                'JawaTengah' : 'Jawa Tengah',\n",
        "                'NusaTenggaraBarat' : 'Nusa Tenggara Barat',\n",
        "                'KalimantanUtara' : 'Kalimantan Utara',\n",
        "                'Bengkulu' : 'Bengkulu',\n",
        "                'Maluku': 'Maluku',\n",
        "                'NusaTenggaraTimur' : 'Nusa Tenggara Timur',\n",
        "                'SulawesiTengah' : 'Sulawesi Tengah',\n",
        "                'Yogyakarta' : 'Daerah Istimewa Yogyakarta',\n",
        "                'KalimantanBarat' : 'Kalimantan Barat',\n",
        "                'KalimantanSelatan' : 'Kalimantan Selatan',\n",
        "                'SulawesiSelatan' : 'Sulawesi Selatan',\n",
        "                'Jambi' : 'Jambi',\n",
        "                'SumateraUtara' : 'Sumatera Utara',\n",
        "                'Riau' : 'Riau',\n",
        "                'Banten' : 'Banten',\n",
        "                'Lampung' : 'Lampung'\n",
        "            }"
      ]
    },
    {
      "cell_type": "code",
      "execution_count": null,
      "metadata": {
        "colab": {
          "base_uri": "https://localhost:8080/"
        },
        "id": "Zqh2FL6GZEpp",
        "outputId": "7818f814-ecda-4165-c1c6-a14470d6b34c",
        "vscode": {
          "languageId": "ruby"
        }
      },
      "outputs": [],
      "source": [
        "# Iterasi melalui setiap fitur (provinsi) di GeoJSON\n",
        "for feature in geojson_data['features']:\n",
        "    # Asumsikan nama provinsi ada di feature['properties']['NAME_1']\n",
        "    current_name = feature['properties'].get('NAME_1') # Gunakan .get() untuk menghindari KeyError\n",
        "\n",
        "    if current_name in name_mapping:\n",
        "        feature['properties']['NAME_1'] = name_mapping[current_name]\n",
        "        print(f\"Mengubah '{current_name}' menjadi '{feature['properties']['NAME_1']}'\")\n",
        "    # Opsional: Jika Anda ingin menstandarisasi kapitalisasi atau spasi juga\n",
        "    # feature['properties']['NAME_1'] = feature['properties']['NAME_1'].lower().strip()"
      ]
    },
    {
      "cell_type": "code",
      "execution_count": null,
      "metadata": {
        "colab": {
          "base_uri": "https://localhost:8080/",
          "height": 0
        },
        "id": "ZEaiFnkrZEpp",
        "outputId": "361da68e-ab76-4df6-83db-2b0c7d44ff77",
        "vscode": {
          "languageId": "ruby"
        }
      },
      "outputs": [],
      "source": [
        "# check kembali apakah sudah match Province name in Geojson and dataset\n",
        "df_zona_risiko['Province'].isin([f['properties']['NAME_1'] for f in geojson_data['features']]).value_counts()"
      ]
    },
    {
      "cell_type": "code",
      "execution_count": null,
      "metadata": {
        "colab": {
          "base_uri": "https://localhost:8080/",
          "height": 0
        },
        "id": "kGa1CIfzZEpp",
        "outputId": "a2db0d15-18f1-4718-918f-cc17a94f6959"
      },
      "outputs": [],
      "source": [
        "# Membuat peta map sebaran covid-19 di province indonesia\n",
        "fig = px.choropleth_map(\n",
        "    df_zona_risiko,\n",
        "    geojson=geojson_data,\n",
        "    locations='Province', # Kolom di DataFrame Anda yang berisi nama provinsi (harus unik)\n",
        "    featureidkey=\"properties.NAME_1\", # Path ke properti di GeoJSON yang berisi nama provinsi yang cocok\n",
        "    hover_name='Province',\n",
        "    color='Zona Risiko', # Kolom yang akan menentukan warna (Zona Merah/Kuning/Hijau)\n",
        "    color_discrete_map={ # Pemetaan warna diskret\n",
        "        'Zona Merah': 'red',\n",
        "        'Zona Kuning': 'yellow',\n",
        "        'Zona Hijau': 'green',\n",
        "    },\n",
        "    map_style=\"carto-positron\", # Atau 'open-street-map', dll.\n",
        "    zoom=4,\n",
        "    center={\"lat\": -2.5, \"lon\": 118}, # Tengah Indonesia\n",
        "    opacity=0.7,\n",
        "    # title='Peta Zona Risiko COVID-19 (Choropleth)'\n",
        ")\n",
        "fig.update_layout(\n",
        "    margin={\"r\":0,\"t\":30,\"l\":0,\"b\":0},\n",
        "    title={\n",
        "        'text': \"Peta Sebaran Zona Risiko COVID-19 Di indonesia\", # Teks judul\n",
        "        'y': 0.98,              # Posisi vertikal judul (0.0 = bawah, 1.0 = atas figur)\n",
        "        'x': 0.01,               # Posisi horizontal judul (0.0 = kiri, 0.5 = tengah, 1.0 = kanan figur)\n",
        "        'xanchor': 'left',    # Anchor horizontal (titik referensi 'x')\n",
        "        'yanchor': 'top'        # Anchor vertikal (titik referensi 'y')\n",
        "        }\n",
        "    )\n",
        "fig.show()\n"
      ]
    },
    {
      "cell_type": "markdown",
      "metadata": {
        "id": "II-lltloZEpp"
      },
      "source": [
        "### **Analisis Peta Zona Risiko Covid-19 di indonesia:**\n",
        "\n",
        "- Peta diatas menunjukkan sebaran Zona Risiko Covid-19 di Indonesia, dengan 3 parameter yaitu Total Kasus per 100 ribu penduduk, Total Kematian per 100 ribu penduduk dan Total Kesembuhan per 100 ribu penduduk yang di klasifikasikan kedalam 3 Zona Risiko berikut ini :  \n",
        "    - **Zona Merah (Risiko Tinggi Kasus):** Terlihat terkonsentrasi di beberapa province, terutama di bagian utara dan timur Sumatera, sebagian Kalimantan, Jawa, Bali serta beberapa provinsi di bagian timur Indonesia yaitu papua. Zona Merah ini mengindikasikan tingkat risiko paling tinggi yang ditentukan dari kombinasi kasus, kematian, dan kesembuhan per 100 ribu penduduk. Provinsi-provinsi dengan nilai kematian di atas High Threshold (misalnya, di atas 83.476) kemungkinan besar menjadi faktor utama dalam penentuan \"Zona Merah\". Wilayah-wilayah ini pada umumnya wilayah padat penduduk dan tingkat urbanisasi tinggi, faktor lainnya mungkin akses ke layanan kesehatan yang belum merata yang mengakibatkan tingginya angka kematian.\n",
        "\n",
        "    - **Zona Kuning (Risiko Moderat Kasus):** Tesebar luas di beberapa pulau di indonesia, dari Papua, Kalimantan, Sumatera, Sulawesi, Jawa dan beberapa pulau di Nusa Tenggara serta Maluku. Zona Kuning menunjukkan tingkat risiko moderat, yang mengindikasikan perlunya kewaspadaan. Dengan peraturan yang dibuat oleh pemerintah pusat dan pengawalan oleh pemerintah daerah, membuat transmisi epidemi menjadi terkontrol.  \n",
        "\n",
        "    - **Zona Hijau (Risiko Rendah Kasus):** Terlihat di beberapa province, hal ini menandakan keberhasilan dalam mengatasi pandemi dengan lebih efektif. Seperti sebagian besar Pulau Sulawesi dan Nusa Tenggara Timur, beberapa wilayah di Sumatera, dan sebagian kecil di Kalimantan, Jawa dan Maluku. Zona Hijau menunjukkan tingkat risiko terendah, kemungkinan disebabkan karena jumlah kasus, kematian, dan kesembuhan yang cenderung rendah per 100 ribu penduduk.  \n",
        "\n",
        "Interpretasi Awal: Pola ini sangat mungkin mencerminkan pusat-pusat kepadatan penduduk, mobilitas ekonomi, dan interaksi sosial yang tinggi. Provinsi-provinsi dengan population yang tinggi, contohnya di pulau Jawa sebagai pusat ekonomi dan populasi, secara alami akan memiliki jumlah kasus kumulatif yang lebih tinggi. Dan normalisasi 'per 100rb' mengonfirmasi bahwa penularan juga signifikan di pulau Jawa, yang relatif terhadap jumlah penduduknya."
      ]
    },
    {
      "cell_type": "markdown",
      "metadata": {
        "id": "BvhMTggPZEpp"
      },
      "source": [
        "## **Provinces with the highest number of cases**"
      ]
    },
    {
      "cell_type": "code",
      "execution_count": null,
      "metadata": {
        "id": "YbV3xwzRhl6p"
      },
      "outputs": [],
      "source": [
        "# Copy dataframe yang sudah cleaned\n",
        "df_province = province_stats_filtered.copy()"
      ]
    },
    {
      "cell_type": "code",
      "execution_count": null,
      "metadata": {
        "colab": {
          "base_uri": "https://localhost:8080/"
        },
        "id": "HqwRnx4Fi70t",
        "outputId": "cb4b35a7-1d49-4cfd-ed66-590023b0ba84"
      },
      "outputs": [],
      "source": [
        "df_province.info()"
      ]
    },
    {
      "cell_type": "code",
      "execution_count": null,
      "metadata": {
        "colab": {
          "base_uri": "https://localhost:8080/",
          "height": 839,
          "referenced_widgets": [
            "9e99e16ccbfe42eea5fe292d8e1ddf1b",
            "8a93d1c4f977442cb7a5a54c3f656d4e",
            "81fa9cd9586842ce828274c3fdfb1ee8"
          ]
        },
        "id": "1LYrBLaC15qg",
        "outputId": "a245ac99-751a-4d17-b851-1ed9c4b228ec"
      },
      "outputs": [],
      "source": [
        "import ipywidgets as widgets\n",
        "from IPython.display import display, clear_output\n",
        "import matplotlib.ticker as ticker\n",
        "from ipywidgets import VBox, Label\n",
        "# 1. Kolom yang akan divisualisasikan\n",
        "cases_col = ['Cases', 'Deaths', 'Recovered']\n",
        "cases_total = ['Total Cases', 'Total Deaths', 'Total Recovered']\n",
        "\n",
        "# 2. Filter provinsi saja\n",
        "prov_df = df_province[df_province['Location Level'] == 'Province']\n",
        "\n",
        "# 3. Ambil data terakhir per provinsi (berdasarkan tanggal terakhir tersedia per provinsi)\n",
        "prov_latest = prov_df.groupby('Location').last()\n",
        "\n",
        "# 4. Membuat fungsi untuk plot berdasarkan pilihan\n",
        "def plot_top10(column):\n",
        "\n",
        "    clear_output(wait=True)  # Untuk menghapus output sebelumnya\n",
        "    display(dropdown)        # Untuk menampilkan ulang dropdown setelah clear\n",
        "\n",
        "    # Ambil 10 provinsi dengan nilai tertinggi untuk kolom tersebut\n",
        "    top10 = prov_latest.sort_values(by=column, ascending=False).head(10)\n",
        "\n",
        "    # Plotting\n",
        "    plt.figure(figsize=(17, 8))\n",
        "    ax = plt.gca()\n",
        "    ax.yaxis.set_major_formatter(ticker.StrMethodFormatter('{x:,.0f}'))  # Untuk mengubah format angka Y\n",
        "    bars = plt.bar(top10.index, top10[column], color='cornflowerblue')\n",
        "    plt.title(f'10 Provinces with the Highest {column}')\n",
        "    plt.xlabel('Province')\n",
        "    plt.ylabel(col)\n",
        "    plt.xticks(rotation=45, ha='right')\n",
        "    plt.grid(axis='y')\n",
        "\n",
        "    # Tambahkan label nilai\n",
        "    for bar in bars:\n",
        "        yval = bar.get_height()\n",
        "        plt.text(bar.get_x() + bar.get_width()/2, yval + yval*0.02, f'{int(yval):,}', ha='center', va='bottom', fontsize=9) #supported values are 'top', 'bottom', 'center', 'baseline', 'center_baseline'\n",
        "\n",
        "    # Untuk mengatur padding pada grafik\n",
        "    plt.tight_layout()\n",
        "\n",
        "    # Untuk menampilkan Grafik\n",
        "    plt.show()\n",
        "\n",
        "# Dropdown widget\n",
        "dropdown = widgets.Dropdown(\n",
        "    options =['Total Cases', 'Total Deaths', 'Total Recovered'],\n",
        "    value = 'Total Cases',\n",
        "    description='Choose Case: ',\n",
        "    layout=widgets.Layout(width='250px')  # optional\n",
        ")\n",
        "\n",
        "# Ubah posisi description ke atas\n",
        "dropdown.style.description_width = 'initial'\n",
        "\n",
        "# Hubungkan dropdown ke fungsi\n",
        "dropdown.observe(lambda change: plot_top10(change['new']), names='value')\n",
        "\n",
        "# Tampilkan pertama kali\n",
        "plot_top10(dropdown.value)"
      ]
    }
  ],
  "metadata": {
    "colab": {
      "collapsed_sections": [
        "r3jZ8uTt6hp9",
        "TcPX5cE19-jT",
        "4L-g6aMK-X1s",
        "EX51xNP3A0Ok",
        "k-g67BIlQLVl",
        "R81F4i4VPHQ4",
        "vcEy7cD9RSq9",
        "xUx9IGsVRbgA",
        "AkmMnws4RnpO",
        "2f1HyM5JrUdl",
        "pWu5NuP0ZEpj",
        "fEq2GvKIZEpm"
      ],
      "provenance": []
    },
    "kernelspec": {
      "display_name": "myproject-3.13",
      "language": "python",
      "name": "python3"
    },
    "language_info": {
      "codemirror_mode": {
        "name": "ipython",
        "version": 3
      },
      "file_extension": ".py",
      "mimetype": "text/x-python",
      "name": "python",
      "nbconvert_exporter": "python",
      "pygments_lexer": "ipython3",
      "version": "3.11.1"
    },
    "widgets": {
      "application/vnd.jupyter.widget-state+json": {
        "81fa9cd9586842ce828274c3fdfb1ee8": {
          "model_module": "@jupyter-widgets/controls",
          "model_module_version": "1.5.0",
          "model_name": "DescriptionStyleModel",
          "state": {
            "_model_module": "@jupyter-widgets/controls",
            "_model_module_version": "1.5.0",
            "_model_name": "DescriptionStyleModel",
            "_view_count": null,
            "_view_module": "@jupyter-widgets/base",
            "_view_module_version": "1.2.0",
            "_view_name": "StyleView",
            "description_width": "initial"
          }
        },
        "8a93d1c4f977442cb7a5a54c3f656d4e": {
          "model_module": "@jupyter-widgets/base",
          "model_module_version": "1.2.0",
          "model_name": "LayoutModel",
          "state": {
            "_model_module": "@jupyter-widgets/base",
            "_model_module_version": "1.2.0",
            "_model_name": "LayoutModel",
            "_view_count": null,
            "_view_module": "@jupyter-widgets/base",
            "_view_module_version": "1.2.0",
            "_view_name": "LayoutView",
            "align_content": null,
            "align_items": null,
            "align_self": null,
            "border": null,
            "bottom": null,
            "display": null,
            "flex": null,
            "flex_flow": null,
            "grid_area": null,
            "grid_auto_columns": null,
            "grid_auto_flow": null,
            "grid_auto_rows": null,
            "grid_column": null,
            "grid_gap": null,
            "grid_row": null,
            "grid_template_areas": null,
            "grid_template_columns": null,
            "grid_template_rows": null,
            "height": null,
            "justify_content": null,
            "justify_items": null,
            "left": null,
            "margin": null,
            "max_height": null,
            "max_width": null,
            "min_height": null,
            "min_width": null,
            "object_fit": null,
            "object_position": null,
            "order": null,
            "overflow": null,
            "overflow_x": null,
            "overflow_y": null,
            "padding": null,
            "right": null,
            "top": null,
            "visibility": null,
            "width": "250px"
          }
        },
        "9e99e16ccbfe42eea5fe292d8e1ddf1b": {
          "model_module": "@jupyter-widgets/controls",
          "model_module_version": "1.5.0",
          "model_name": "DropdownModel",
          "state": {
            "_dom_classes": [],
            "_model_module": "@jupyter-widgets/controls",
            "_model_module_version": "1.5.0",
            "_model_name": "DropdownModel",
            "_options_labels": [
              "Total Cases",
              "Total Deaths",
              "Total Recovered"
            ],
            "_view_count": null,
            "_view_module": "@jupyter-widgets/controls",
            "_view_module_version": "1.5.0",
            "_view_name": "DropdownView",
            "description": "Choose Case: ",
            "description_tooltip": null,
            "disabled": false,
            "index": 0,
            "layout": "IPY_MODEL_8a93d1c4f977442cb7a5a54c3f656d4e",
            "style": "IPY_MODEL_81fa9cd9586842ce828274c3fdfb1ee8"
          }
        }
      }
    }
  },
  "nbformat": 4,
  "nbformat_minor": 0
}
